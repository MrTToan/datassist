{
 "cells": [
  {
   "cell_type": "code",
   "execution_count": 18,
   "id": "8d0e3f71-b233-4086-ba6d-a426b27a3d0b",
   "metadata": {},
   "outputs": [],
   "source": [
    "from openai import OpenAI\n",
    "import pandas as pd \n",
    "import json\n",
    "import duckdb\n",
    "from pydantic import BaseModel, Field\n",
    "from IPython.display import Markdown\n",
    "import seaborn as sns"
   ]
  },
  {
   "cell_type": "code",
   "execution_count": 19,
   "id": "10689d77-b118-42a7-bc07-2e9f98dc1fc2",
   "metadata": {},
   "outputs": [],
   "source": [
    "from dotenv import load_dotenv\n",
    "import os\n",
    "load_dotenv()\n",
    "api_key = os.getenv(\"OPEN_API_KEY\")\n",
    "client=OpenAI(api_key=api_key)\n",
    "\n",
    "model='gpt-4o-mini'"
   ]
  },
  {
   "cell_type": "code",
   "execution_count": 20,
   "id": "445cc833-e98d-48a7-a77b-17d1db87cea0",
   "metadata": {},
   "outputs": [],
   "source": [
    "transaction_path='/home/toan999/coding/Agent/Store_Sales_Price_Elasticity_Promotions_Data.parquet'"
   ]
  },
  {
   "cell_type": "code",
   "execution_count": 21,
   "id": "fb04e281-8cd3-44e6-94dc-6b9c1441e153",
   "metadata": {},
   "outputs": [],
   "source": [
    "SQL_GENERATE_PROMPT=\"\"\"\n",
    "Generate a SQL to access duckdb based on the prompt. Do not reply anything beside the query. \n",
    "The prompt is {prompt}.\n",
    "\n",
    "The table name is {table_name}.\n",
    "The available columns are {column}.\n",
    "\"\"\""
   ]
  },
  {
   "cell_type": "code",
   "execution_count": 22,
   "id": "962250cd-cf32-4092-9bf7-0530e88a576f",
   "metadata": {},
   "outputs": [],
   "source": [
    "def generate_sql_query(prompt: str, column: list, table_name: str) ->str:\n",
    "    \"\"\"Generate a SQL query based on the prompt\"\"\"\n",
    "    formatted_prompt=SQL_GENERATE_PROMPT.format(prompt=prompt, column=column, table_name=table_name)\n",
    "    completion = client.chat.completions.create(\n",
    "        model=model,\n",
    "        messages=[\n",
    "            {\n",
    "                \"role\": \"user\",\n",
    "                \"content\": formatted_prompt\n",
    "            }\n",
    "        ]\n",
    "    )\n",
    "    return completion.choices[0].message.content"
   ]
  },
  {
   "cell_type": "code",
   "execution_count": 73,
   "id": "ef03d510-0775-4a23-be94-efd185b6254a",
   "metadata": {},
   "outputs": [],
   "source": [
    "@tracer.tool()\n",
    "def sale_lookup(prompt):\n",
    "    try:\n",
    "        # db creation\n",
    "        df = pd.read_parquet(transaction_path)\n",
    "        table_name='sales'\n",
    "        duckdb.sql(f\"CREATE TABLE IF NOT EXISTS {table_name} AS SELECT * from df\")\n",
    "        \n",
    "        # query generation\n",
    "        sql_generated=generate_sql_query(prompt, df.columns,table_name)\n",
    "        sql_final=sql_generated.replace('```sql', '').replace('```','').strip()\n",
    "\n",
    "        with tracer.start_as_current_span(\n",
    "            \"execute_sql_query\",openinference_span_kind=\"chain\"\n",
    "        ) as span:\n",
    "            span.set_input(value=sql_final)\n",
    "        # query execution\n",
    "            result=duckdb.sql(sql_final).df()\n",
    "            span.set_output(value=str(result))\n",
    "            span.set_status(StatusCode.OK)\n",
    "        \n",
    "        return result.to_string()\n",
    "    except Exception as e:\n",
    "        return f\"Error accessing data {str(e)}\""
   ]
  },
  {
   "cell_type": "code",
   "execution_count": 24,
   "id": "a4e03659-2d3c-44ef-abb3-9f458202a36a",
   "metadata": {},
   "outputs": [
    {
     "data": {
      "text/plain": [
       "'    Store_Number  SKU_Coded  Product_Class_Code  Sold_Date  Qty_Sold  Total_Sale_Value  On_Promo\\n0           2970    6172800               22875 2021-11-21         2         37.900002         0\\n1           2970    6172800               22875 2022-04-29         1         18.950001         0\\n2           2970    6172800               22875 2022-07-20         1         18.950001         0\\n3           2970    6172800               22875 2022-08-27         1         18.950001         0\\n4           2970    6172800               22875 2022-12-17         1         18.950001         0\\n5           2970    6172800               22875 2023-02-02         1         18.950001         0\\n6           2970    6172800               22875 2023-03-22         4         75.800003         0\\n7           2970    6172800               22875 2023-04-29         3         56.849998         0\\n8           2970    6172800               22875 2023-05-07         1         18.950001         0\\n9           2970    6172800               22875 2023-08-29         3         56.849998         0\\n10          2970    6172800               22875 2023-09-30         1         18.950001         0\\n11          2970    6172800               22875 2023-12-08         1         18.950001         0\\n12          2970    6172800               22875 2023-12-14         1         18.950001         0\\n13          2970    6172800               22875 2024-02-10         1         19.990000         0\\n14          2970    6172800               22875 2024-03-14         1         19.990000         0\\n15          2970    6172850               22875 2021-11-17         1         19.990000         0\\n16          2970    6172850               22875 2022-01-07         3         59.970001         0\\n17          2970    6172850               22875 2022-06-05         1         19.990000         0\\n18          2970    6172850               22875 2022-06-12         2         39.980000         0\\n19          2970    6172850               22875 2022-10-07         1         19.990000         0'"
      ]
     },
     "execution_count": 24,
     "metadata": {},
     "output_type": "execute_result"
    }
   ],
   "source": [
    "exam_data=sale_lookup('Show me 20 sales of the store with highest number')\n",
    "exam_data"
   ]
  },
  {
   "cell_type": "code",
   "execution_count": 25,
   "id": "79802fb0-f9da-41b1-a68c-6b8ad7c0f7f7",
   "metadata": {},
   "outputs": [],
   "source": [
    "analysis_prompt=\"\"\"\n",
    "Based on provided data {data}, help to answer the needs from {prompt}.\n",
    "\n",
    "Let make analysis to recommend for the growth manager to take immediate action\n",
    "\"\"\""
   ]
  },
  {
   "cell_type": "code",
   "execution_count": 70,
   "id": "d353b08f-bf65-4035-a817-109a2cd044be",
   "metadata": {},
   "outputs": [],
   "source": [
    "@tracer.tool()\n",
    "def sale_analysis(prompt: str, data: str):\n",
    "    \"\"\"Generate data analysis prompt\"\"\"\n",
    "    prompt_final=analysis_prompt.format(data=data, prompt=prompt)\n",
    "    completion=client.chat.completions.create(\n",
    "        model=model,\n",
    "        messages=[\n",
    "            {\n",
    "                \"role\":\"user\",\n",
    "                \"content\":prompt_final\n",
    "            }\n",
    "        ]\n",
    "    )\n",
    "    analysis=completion.choices[0].message.content\n",
    "    return analysis if analysis else \"No info here\""
   ]
  },
  {
   "cell_type": "code",
   "execution_count": 27,
   "id": "8d17ead2-35a3-4c2b-a570-88ddb57d407c",
   "metadata": {
    "scrolled": true
   },
   "outputs": [],
   "source": [
    "insight=sale_analysis('what is its performance?', exam_data)"
   ]
  },
  {
   "cell_type": "code",
   "execution_count": 28,
   "id": "b2a6f434-3af1-4203-90ed-e3b03a8363ba",
   "metadata": {
    "scrolled": true
   },
   "outputs": [
    {
     "data": {
      "text/markdown": [
       "To analyze the performance of the sales data provided, we can consider several dimensions, such as total sales over time, trends in quantities sold, seasonality, and the impact of promotional activities (even though all entries in the \"On_Promo\" column are marked as 0). Here’s a detailed analysis based on the data you've provided.\n",
       "\n",
       "### 1. Total Sales Performance:\n",
       "**SKU 6172800**: \n",
       "- **Total Quantity Sold**: 17 units \n",
       "- **Total Sale Value**: $367.80\n",
       "- **Sales by Year**:\n",
       "  - **2021**: 2 units (1 sale)\n",
       "  - **2022**: 6 units (5 sales)\n",
       "  - **2023**: 9 units (7 sales)\n",
       "  - **2024**: 2 units (2 sales, future dates included)\n",
       "\n",
       "**SKU 6172850**: \n",
       "- **Total Quantity Sold**: 8 units \n",
       "- **Total Sale Value**: $159.90\n",
       "- **Sales by Year**:\n",
       "  - **2021**: 1 unit (1 sale)\n",
       "  - **2022**: 7 units (4 sales, with two sales of 2 units on June 12)\n",
       "\n",
       "### 2. Trend Analysis:\n",
       "- **Volume Trend**: Sales appear to increase over time for SKU 6172800, with peaks on specific dates (notably in March 2023), suggesting growing customer interest or improved stock availability.\n",
       "- For SKU 6172850, sales are more sporadic with a noticeable increase in June 2022.\n",
       "\n",
       "### 3. Monthly/Seasonal Trends:\n",
       "- **SKU 6172800** shows consistent movement every few months but there are spikes in March (4 units) and April (3 units) of 2023.\n",
       "- **SKU 6172850** showed better sales activity in June as well.\n",
       "\n",
       "### 4. Recommendations for Growth Manager:\n",
       "Based on the observed trends and performance data, here are some recommended actions:\n",
       "\n",
       "1. **Promotional Strategy**:\n",
       "   - **Targeted Promotions**: Introduce promotions during peak months (such as March and June) as these periods can significantly increase sales. Since the current data shows no promotional activity, integrating it into the strategy may help boost sales.\n",
       "   - **Bundling Products**: Combine SKU 6172800 and 6172850 in promotional offers together, as they belong to the same class and might attract more customers together.\n",
       "\n",
       "2. **Inventory Management**:\n",
       "   - **Levels of Stock**: Ensure that stock levels are maintained for high-selling products during peak times to prevent lost sales due to stockouts.\n",
       "   - **Forecasting**: Use past sales data to better forecast future demands—especially around specific months where spikes have been noticed.\n",
       "\n",
       "3. **Market Research**:\n",
       "   - **Customer Feedback**: Investigate customer feedback for these SKUs to identify any barriers to higher sales, and address any common concerns that prevent sales (e.g., product visibility, product fit in the market).\n",
       "   - **Competitive Analysis**: Assess the market and analyze whether competitors are offering similar products and how their promotions are structured. \n",
       "\n",
       "4. **Diversification**:\n",
       "   - **Introduce New Variants**: If these SKUs are successful, there could be opportunities to introduce related products that leverage the existing customer base.\n",
       "   - **Cross-Selling**: Encourage cross-selling of related products that are complementary to increase the average transaction size.\n",
       "\n",
       "5. **Monitor Performance**:\n",
       "   - Implement a systematic way to monitor sales trends and promotional impacts continuously, adjusting the strategy dynamically based on real-time data.\n",
       "\n",
       "### Conclusion:\n",
       "There is a potential for growth for both SKUs, with specific recommended actions focused on promotions, inventory management, customer engagement, and ongoing monitoring of sales trends. Using data-driven strategies will help maximize sales opportunities for both SKUs and enhance overall store performance."
      ],
      "text/plain": [
       "<IPython.core.display.Markdown object>"
      ]
     },
     "execution_count": 28,
     "metadata": {},
     "output_type": "execute_result"
    }
   ],
   "source": [
    "Markdown(insight)"
   ]
  },
  {
   "cell_type": "code",
   "execution_count": 29,
   "id": "0e0e844e-5407-4260-adda-4ed9ffe108b0",
   "metadata": {},
   "outputs": [],
   "source": [
    "chart_config_prompt=\"\"\"\n",
    "Create chart configs to visualize following data \n",
    "{data}\n",
    "The visualization goal is {visualization_goal}\n",
    "\"\"\""
   ]
  },
  {
   "cell_type": "code",
   "execution_count": 30,
   "id": "62af3ed6-1d6f-4056-b694-5c5a61f50276",
   "metadata": {},
   "outputs": [],
   "source": [
    "class VisualizationConfig(BaseModel):\n",
    "    chart_type: str = Field(..., description=\"Type of chart generate\")\n",
    "    x_axis: str = Field(..., description=\"Name of the x-axis column\")\n",
    "    y_axis: str = Field(..., description=\"Name of the y-axis column\")\n",
    "    title: str = Field(..., description=\"Title of the chart\")"
   ]
  },
  {
   "cell_type": "code",
   "execution_count": 67,
   "id": "5b584267-c0e3-40d4-832b-ab13daee8fa1",
   "metadata": {},
   "outputs": [],
   "source": [
    "@tracer.chain()\n",
    "def extract_chart_config(visualization_goal:str, data:str):\n",
    "    \"\"\"generate config from prompt\"\"\"\n",
    "    prompt_final=chart_config_prompt.format(data=data, visualization_goal=visualization_goal)\n",
    "\n",
    "    response=client.beta.chat.completions.parse(\n",
    "        model=model,\n",
    "        messages=[\n",
    "            {\n",
    "                \"role\":\"user\",\n",
    "                \"content\":prompt_final\n",
    "            }\n",
    "        ],\n",
    "        response_format=VisualizationConfig,\n",
    "    )\n",
    "\n",
    "    try:\n",
    "        result=response.choices[0].message.content\n",
    "\n",
    "        return {\n",
    "            \"chart_type\": result.chart_type,\n",
    "            \"x_axis\": result.x_axis,\n",
    "            \"y_axis\": result.y_axis,\n",
    "            \"title\": result.title,\n",
    "            \"data\": data\n",
    "        }\n",
    "    except Exception:\n",
    "        return {\n",
    "            \"chart_type\": \"line\",\n",
    "            \"x_axis\": \"date\",\n",
    "            \"y_axis\": \"value\",\n",
    "            \"title\": visualization_goal,\n",
    "            \"data\": data\n",
    "        }"
   ]
  },
  {
   "cell_type": "code",
   "execution_count": 32,
   "id": "77f83d92-6a18-4319-9e05-e545b5c852c7",
   "metadata": {},
   "outputs": [],
   "source": [
    "create_chart_prompt=\"\"\"\n",
    "From the follow config \n",
    "{chart_config}\n",
    "\n",
    "Write executable python code to create a chart. Just return codes, no other text.\n",
    "\"\"\""
   ]
  },
  {
   "cell_type": "code",
   "execution_count": 68,
   "id": "a7cb0f5f-905b-4eef-91ce-e9b4ef2eb9fb",
   "metadata": {},
   "outputs": [],
   "source": [
    "@tracer.chain()\n",
    "def create_chart(config:str):\n",
    "    prompt_final=create_chart_prompt.format(chart_config=config)\n",
    "    response=client.chat.completions.create(\n",
    "        model=model,\n",
    "        messages=[\n",
    "            {\n",
    "                \"role\":\"user\",\n",
    "                \"content\":prompt_final\n",
    "            }\n",
    "        ],\n",
    "    )\n",
    "    result=response.choices[0].message.content\n",
    "    code=result.replace('```python','').replace('```','').strip()\n",
    "    return code"
   ]
  },
  {
   "cell_type": "code",
   "execution_count": 69,
   "id": "5a13055e-c590-4cd8-a0e7-1809ddd45acc",
   "metadata": {},
   "outputs": [],
   "source": [
    "@tracer.tool()\n",
    "def generate_visualization(visualization_goal, data):\n",
    "    config=extract_chart_config(visualization_goal, data)\n",
    "    code=create_chart(config)\n",
    "    return code"
   ]
  },
  {
   "cell_type": "code",
   "execution_count": 35,
   "id": "447b1126-f112-4abe-b5ec-f189fe437c85",
   "metadata": {},
   "outputs": [
    {
     "name": "stdout",
     "output_type": "stream",
     "text": [
      "    Store_Number  SKU_Coded  Product_Class_Code  Sold_Date  Qty_Sold  Total_Sale_Value  On_Promo\n",
      "0           2970    6178100               22800 2022-10-16         1          4.990000         0\n",
      "1           2970    6178100               22800 2022-10-18         6         29.940001         0\n",
      "2           2970    6178100               22800 2022-10-19         1          4.990000         0\n",
      "3           2970    6178100               22800 2022-10-20         1          4.990000         0\n",
      "4           2970    6178100               22800 2022-10-21         1          4.990000         0\n",
      "5           2970    6178100               22800 2022-10-22         4         19.959999         0\n",
      "6           2970    6178100               22800 2022-10-23         1          4.990000         0\n",
      "7           2970    6178100               22800 2022-10-24         2          9.980000         0\n",
      "8           2970    6178100               22800 2022-10-25         1          4.990000         0\n",
      "9           2970    6178100               22800 2022-10-26         1          4.990000         0\n",
      "10          2970    6178100               22800 2022-11-03         1          4.990000         0\n",
      "11          2970    6178100               22800 2022-11-05         2          9.980000         0\n",
      "12          2970    6178100               22800 2022-11-08         3         14.970000         0\n",
      "13          2970    6178100               22800 2022-11-09         1          4.990000         0\n",
      "14          2970    6178100               22800 2022-11-12         2          9.980000         0\n",
      "15          2970    6178100               22800 2022-11-14         2          9.980000         0\n",
      "16          2970    6178100               22800 2022-11-16         1          4.990000         0\n",
      "17          2970    6178100               22800 2022-11-19         1          4.990000         0\n",
      "18          2970    6178100               22800 2022-11-20         1          4.990000         0\n",
      "19          2970    6178100               22800 2022-11-21         1          4.990000         0\n"
     ]
    }
   ],
   "source": [
    "smp_data=sale_lookup('Show me 20 sales of the store with highest number')\n",
    "print(smp_data)"
   ]
  },
  {
   "cell_type": "code",
   "execution_count": 36,
   "id": "f0b4aebd-bcfa-400a-883a-6b96b3351057",
   "metadata": {},
   "outputs": [],
   "source": [
    "chart_code=generate_visualization('a chart of sale by product SKU. Put the product SKU on x axis and sum of sale on the y axis', smp_data)"
   ]
  },
  {
   "cell_type": "code",
   "execution_count": 37,
   "id": "810998e0-a8be-4228-9136-e048f8aad1f2",
   "metadata": {},
   "outputs": [
    {
     "name": "stdout",
     "output_type": "stream",
     "text": [
      "import pandas as pd\n",
      "import matplotlib.pyplot as plt\n",
      "\n",
      "# Sample data as a string\n",
      "data = \"\"\"Store_Number,SKU_Coded,Product_Class_Code,Sold_Date,Qty_Sold,Total_Sale_Value,On_Promo\n",
      "2970,6178100,22800,2022-10-16,1,4.990000,0\n",
      "2970,6178100,22800,2022-10-18,6,29.940001,0\n",
      "2970,6178100,22800,2022-10-19,1,4.990000,0\n",
      "2970,6178100,22800,2022-10-20,1,4.990000,0\n",
      "2970,6178100,22800,2022-10-21,1,4.990000,0\n",
      "2970,6178100,22800,2022-10-22,4,19.959999,0\n",
      "2970,6178100,22800,2022-10-23,1,4.990000,0\n",
      "2970,6178100,22800,2022-10-24,2,9.980000,0\n",
      "2970,6178100,22800,2022-10-25,1,4.990000,0\n",
      "2970,6178100,22800,2022-10-26,1,4.990000,0\n",
      "2970,6178100,22800,2022-11-03,1,4.990000,0\n",
      "2970,6178100,22800,2022-11-05,2,9.980000,0\n",
      "2970,6178100,22800,2022-11-08,3,14.970000,0\n",
      "2970,6178100,22800,2022-11-09,1,4.990000,0\n",
      "2970,6178100,22800,2022-11-12,2,9.980000,0\n",
      "2970,6178100,22800,2022-11-14,2,9.980000,0\n",
      "2970,6178100,22800,2022-11-16,1,4.990000,0\n",
      "2970,6178100,22800,2022-11-19,1,4.990000,0\n",
      "2970,6178100,22800,2022-11-20,1,4.990000,0\n",
      "2970,6178100,22800,2022-11-21,1,4.990000,0\n",
      "\"\"\"\n",
      "\n",
      "# Load the data into a DataFrame\n",
      "from io import StringIO\n",
      "df = pd.read_csv(StringIO(data), parse_dates=['Sold_Date'])\n",
      "\n",
      "# Group by Sold_Date and sum the Total_Sale_Value\n",
      "sales_summary = df.groupby('Sold_Date')['Total_Sale_Value'].sum().reset_index()\n",
      "\n",
      "# Create the line chart\n",
      "plt.figure(figsize=(10, 5))\n",
      "plt.plot(sales_summary['Sold_Date'], sales_summary['Total_Sale_Value'], marker='o')\n",
      "plt.title('A Chart of Sale by Product SKU')\n",
      "plt.xlabel('Date')\n",
      "plt.ylabel('Sum of Sale Value')\n",
      "plt.xticks(rotation=45)\n",
      "plt.grid()\n",
      "plt.tight_layout()\n",
      "plt.show()\n"
     ]
    }
   ],
   "source": [
    "print(chart_code)"
   ]
  },
  {
   "cell_type": "code",
   "execution_count": 38,
   "id": "7c3734c2-afa7-4bfb-906c-4b28655334ab",
   "metadata": {},
   "outputs": [
    {
     "data": {
      "image/png": "[encoded data removed]",
      "text/plain": [
       "<Figure size 1000x500 with 1 Axes>"
      ]
     },
     "metadata": {},
     "output_type": "display_data"
    }
   ],
   "source": [
    "exec(chart_code)"
   ]
  },
  {
   "cell_type": "code",
   "execution_count": 39,
   "id": "a85b0b01-f458-41e4-986c-9c3053388e50",
   "metadata": {},
   "outputs": [],
   "source": [
    "tools = [{\n",
    "    \"type\": \"function\",\n",
    "    \"function\": {\n",
    "        \"name\": \"sale_lookup\",\n",
    "        \"description\": \"Look up data from Store Sales Price Elasticity Promotions dataset\",\n",
    "        \"parameters\": {\n",
    "            \"type\": \"object\",\n",
    "            \"properties\": {\n",
    "                \"prompt\": {\n",
    "                    \"type\": \"string\",\n",
    "                    \"description\": \"The unchanged prompt users provided\"\n",
    "                }\n",
    "            },\n",
    "            \"required\": [\"prompt\"]\n",
    "        }\n",
    "    }\n",
    "},\n",
    "    {\n",
    "    \"type\": \"function\",\n",
    "    \"function\": {\n",
    "        \"name\": \"sale_analysis\",\n",
    "        \"description\": \"Analyze sales data to extract insights\",\n",
    "        \"parameters\": {\n",
    "            \"type\": \"object\",\n",
    "            \"properties\": {\n",
    "                \"data\": {\"type\": \"string\", \"description\": \"The output from sale_lookup tool\"},\n",
    "                \"prompt\":{\"type\":\"string\", \"description\": \"The unchanged prompt users provided\"}\n",
    "            },\n",
    "            \"required\": [\"data\", \"prompt\"]\n",
    "        }\n",
    "    }\n",
    "    },\n",
    "    {\n",
    "    \"type\": \"function\",\n",
    "    \"function\": {\n",
    "        \"name\": \"generate_visualization\",\n",
    "        \"description\": \"Generate Python code to create data visualizations\",\n",
    "        \"parameters\": {\n",
    "            \"type\": \"object\",\n",
    "            \"properties\": {\n",
    "                \"data\": {\"type\": \"string\", \"description\": \"The output from sale_lookup tool\"},\n",
    "                \"visualization_goal\":{\"type\":\"string\", \"description\": \"The goal of visualization\"}\n",
    "            },\n",
    "            \"required\": [\"prompt\", \"visualization_goal\"]\n",
    "        }\n",
    "    }\n",
    "}]"
   ]
  },
  {
   "cell_type": "code",
   "execution_count": 40,
   "id": "f77a4cb2-e304-4a20-8ef1-dd9851385cb4",
   "metadata": {},
   "outputs": [],
   "source": [
    "tool_implementation={\n",
    "    \"sale_lookup\": sale_lookup,\n",
    "    \"sale_analysis\": sale_analysis,\n",
    "    \"generate_visualization\": generate_visualization\n",
    "}"
   ]
  },
  {
   "cell_type": "code",
   "execution_count": 41,
   "id": "6c845273-2c18-40f4-a4ee-fb89e7d7c917",
   "metadata": {},
   "outputs": [],
   "source": [
    "SYSTEM_PROMPT=\"You are a helpfull assistant to help users understand insights from this dataset\""
   ]
  },
  {
   "cell_type": "code",
   "execution_count": 65,
   "id": "0a36088f-2040-4fdf-a6b6-7adb73594ca9",
   "metadata": {},
   "outputs": [],
   "source": [
    "@tracer.chain()\n",
    "def handle_tool_calls(tool_calls, message):\n",
    "    for tool in tool_calls:\n",
    "        function=tool_implementation[tool.function.name]\n",
    "        args=json.loads(tool.function.arguments)\n",
    "        result=function(**args)\n",
    "        message.append({\"role\":\"tool\", \"content\":result, \"tool_call_id\": tool.id})\n",
    "        return message"
   ]
  },
  {
   "cell_type": "code",
   "execution_count": 64,
   "id": "c317fafb-645d-4253-83a1-2f9aaecb44dd",
   "metadata": {},
   "outputs": [],
   "source": [
    "def run_agent(messages):\n",
    "    print(f\"Running agent with messages:{messages}\")\n",
    "\n",
    "    if isinstance(messages, str):\n",
    "        messages = [{\"role\": \"user\", \"content\": messages}]\n",
    "        \n",
    "    # Check and add system prompt if needed\n",
    "    if not any(\n",
    "            isinstance(message, dict) and message.get(\"role\") == \"system\" for message in messages\n",
    "        ):\n",
    "            system_prompt = {\"role\": \"system\", \"content\": SYSTEM_PROMPT}\n",
    "            messages.append(system_prompt)\n",
    "\n",
    "\n",
    "    while True:\n",
    "        # Router Span\n",
    "        print(\"Making router call to OpenAI\")\n",
    "        with tracer.start_as_current_span(\n",
    "            \"router_call\", openinference_span_kind='chain'\n",
    "        ) as span:\n",
    "            span.set_input(value=messages)\n",
    "            response=client.chat.completions.create(\n",
    "                model=model,\n",
    "                messages=messages,\n",
    "                tools=tools,\n",
    "            )\n",
    "    \n",
    "            messages.append(response.choices[0].message)\n",
    "            tool_calls=response.choices[0].message.tool_calls\n",
    "            if tool_calls:\n",
    "                span.set_status(StatusCode.OK)\n",
    "                print(f\"Received response with tool calls: {tool_calls[0].function.name} and {tool_calls[0].id}\")\n",
    "                print(\"Processing tool calls\")\n",
    "                messages=handle_tool_calls(tool_calls, messages)\n",
    "                span.set_output(value=tool_calls)\n",
    "    \n",
    "            else:\n",
    "                print(\"No tool calls, returning final response\")\n",
    "                span.set_output(value=response.choices[0].message.content)\n",
    "                return response.choices[0].message.content"
   ]
  },
  {
   "cell_type": "code",
   "execution_count": 60,
   "id": "603c20e4-574d-4fc6-b640-35f61dab502c",
   "metadata": {},
   "outputs": [
    {
     "name": "stdout",
     "output_type": "stream",
     "text": [
      "Running agent with messages:Show me the code for graph of sales by store in Dec 2021, and make analysis.\n",
      "Making router call to OpenAI\n",
      "Received response with tool calls: sale_lookup and call_cD97hV67Qut80ABM4UDL8uXg\n",
      "Processing tool calls\n",
      "Making router call to OpenAI\n",
      "Received response with tool calls: sale_analysis and call_mz41BOZRIkIGdsZY7ykBz7Un\n",
      "Processing tool calls\n",
      "Making router call to OpenAI\n",
      "Received response with tool calls: generate_visualization and call_4FoeqOIC2pI1NfWZLbr1Vtfb\n",
      "Processing tool calls\n",
      "Making router call to OpenAI\n",
      "No tool calls, returning final response\n"
     ]
    }
   ],
   "source": [
    "result = run_agent('Show me the code for graph of sales by store in Dec 2021, and make analysis.')"
   ]
  },
  {
   "cell_type": "code",
   "execution_count": 61,
   "id": "d8b1bd24-9322-4c8f-bcbd-b34fa1de831e",
   "metadata": {
    "scrolled": true
   },
   "outputs": [
    {
     "data": {
      "text/markdown": [
       "Here is the code for generating a bar graph of sales by store for December 2021:\n",
       "\n",
       "```python\n",
       "import pandas as pd\n",
       "import matplotlib.pyplot as plt\n",
       "\n",
       "data = {\n",
       "    'Store_Number': [1540, 4840, 3080, 1320, 4070, 4730, 2090, 2640, 330, 1210, 1760, 2750, 1980, 4400, 2530, 3740, 2970, 1650, 880, 4180, 550, 3630, 2200, 1870, 2310, 3410, 990, 660, 2420, 770, 1100, 3190, 3300],\n",
       "    'Total_Qty_Sold': [3116.0, 2724.0, 2676.0, 2892.0, 1828.0, 1654.0, 2134.0, 1647.0, 1925.0, 2583.0, 2658.0, 2951.0, 1776.0, 292.0, 1862.0, 2244.0, 3555.0, 2903.0, 2353.0, 1875.0, 1301.0, 2342.0, 2692.0, 2668.0, 2521.0, 2227.0, 2118.0, 2141.0, 2550.0, 1684.0, 2564.0, 2003.0, 3265.0],\n",
       "    'Total_Sale_Value': [37569.329945, 29933.489884, 32659.609960, 32853.569915, 21321.059979, 18747.209966, 23003.409946, 20872.250000, 21555.029918, 34413.949924, 30765.979889, 35648.789999, 17433.159965, 6061.750041, 20844.890021, 26977.429915, 53453.759857, 38965.520022, 31668.100037, 21071.019946, 16161.550002, 29063.319957, 34780.070020, 30694.519899, 28763.669892, 26714.789922, 24713.900014, 22993.589873, 26545.169849, 17978.159951, 33196.209952, 24083.250015, 39474.609946]\n",
       "}\n",
       "\n",
       "df = pd.DataFrame(data)\n",
       "\n",
       "plt.figure(figsize=(12, 6))\n",
       "plt.bar(df['Store_Number'].astype(str), df['Total_Sale_Value'], color='skyblue')\n",
       "plt.title('Sales by Store for December 2021')\n",
       "plt.xlabel('Store Number')\n",
       "plt.ylabel('Total Sale Value')\n",
       "plt.xticks(rotation=45)\n",
       "plt.tight_layout()\n",
       "plt.show()\n",
       "```\n",
       "\n",
       "### Analysis Summary:\n",
       "- The analysis of sales data by store in December 2021 reveals significant insights into the performance of each store. \n",
       "- The sales value and quantity sold vary widely across stores, indicating differing levels of customer demand, inventory management, or marketing effectiveness.\n",
       "- Recommendations target underperforming stores for improvement while seeking to replicate the success of top performers.\n",
       "\n",
       "Feel free to run this code in a Python environment with the required libraries (`pandas` and `matplotlib`) installed to visualize the sales data further!"
      ],
      "text/plain": [
       "<IPython.core.display.Markdown object>"
      ]
     },
     "execution_count": 61,
     "metadata": {},
     "output_type": "execute_result"
    }
   ],
   "source": [
    "Markdown(result)"
   ]
  },
  {
   "cell_type": "code",
   "execution_count": 62,
   "id": "a44642ba-be45-4cc0-9f91-82904e1d9f4d",
   "metadata": {},
   "outputs": [
    {
     "data": {
      "image/png": "[encoded data removed]",
      "text/plain": [
       "<Figure size 1200x600 with 1 Axes>"
      ]
     },
     "metadata": {},
     "output_type": "display_data"
    }
   ],
   "source": [
    "import pandas as pd\n",
    "import matplotlib.pyplot as plt\n",
    "\n",
    "data = {\n",
    "    'Store_Number': [1540, 4840, 3080, 1320, 4070, 4730, 2090, 2640, 330, 1210, 1760, 2750, 1980, 4400, 2530, 3740, 2970, 1650, 880, 4180, 550, 3630, 2200, 1870, 2310, 3410, 990, 660, 2420, 770, 1100, 3190, 3300],\n",
    "    'Total_Qty_Sold': [3116.0, 2724.0, 2676.0, 2892.0, 1828.0, 1654.0, 2134.0, 1647.0, 1925.0, 2583.0, 2658.0, 2951.0, 1776.0, 292.0, 1862.0, 2244.0, 3555.0, 2903.0, 2353.0, 1875.0, 1301.0, 2342.0, 2692.0, 2668.0, 2521.0, 2227.0, 2118.0, 2141.0, 2550.0, 1684.0, 2564.0, 2003.0, 3265.0],\n",
    "    'Total_Sale_Value': [37569.329945, 29933.489884, 32659.609960, 32853.569915, 21321.059979, 18747.209966, 23003.409946, 20872.250000, 21555.029918, 34413.949924, 30765.979889, 35648.789999, 17433.159965, 6061.750041, 20844.890021, 26977.429915, 53453.759857, 38965.520022, 31668.100037, 21071.019946, 16161.550002, 29063.319957, 34780.070020, 30694.519899, 28763.669892, 26714.789922, 24713.900014, 22993.589873, 26545.169849, 17978.159951, 33196.209952, 24083.250015, 39474.609946]\n",
    "}\n",
    "\n",
    "df = pd.DataFrame(data)\n",
    "\n",
    "plt.figure(figsize=(12, 6))\n",
    "plt.bar(df['Store_Number'].astype(str), df['Total_Sale_Value'], color='skyblue')\n",
    "plt.title('Sales by Store for December 2021')\n",
    "plt.xlabel('Store Number')\n",
    "plt.ylabel('Total Sale Value')\n",
    "plt.xticks(rotation=45)\n",
    "plt.tight_layout()\n",
    "plt.show()\n"
   ]
  },
  {
   "cell_type": "code",
   "execution_count": 48,
   "id": "085131cc-76bb-4b86-913c-d1d95c31587b",
   "metadata": {},
   "outputs": [],
   "source": [
    "import phoenix as px\n",
    "from phoenix.otel import register\n",
    "from openinference.instrumentation.openai import OpenAIInstrumentor\n",
    "from openinference.semconv.trace import SpanAttributes\n",
    "from opentelemetry.trace import Status, StatusCode\n",
    "from openinference.instrumentation import TracerProvider"
   ]
  },
  {
   "cell_type": "code",
   "execution_count": 50,
   "id": "391276fc-5b1b-49c4-9089-8db7947bc19e",
   "metadata": {},
   "outputs": [
    {
     "name": "stderr",
     "output_type": "stream",
     "text": [
      "Existing running Phoenix instance detected! Shutting it down and starting a new instance...\n"
     ]
    },
    {
     "name": "stdout",
     "output_type": "stream",
     "text": [
      "🌍 To view the Phoenix app in your browser, visit http://localhost:6006/\n",
      "📖 For more information on how to use Phoenix, check out https://docs.arize.com/phoenix\n"
     ]
    }
   ],
   "source": [
    "sessions=px.launch_app()"
   ]
  },
  {
   "cell_type": "code",
   "execution_count": 51,
   "id": "4daaebef-8999-4639-9772-8258ffad76fa",
   "metadata": {},
   "outputs": [],
   "source": [
    "project_name=\"tracing-agent\""
   ]
  },
  {
   "cell_type": "code",
   "execution_count": 52,
   "id": "1f278233-02c0-4d92-b34d-2b7c4786f845",
   "metadata": {},
   "outputs": [
    {
     "name": "stdout",
     "output_type": "stream",
     "text": [
      "🔭 OpenTelemetry Tracing Details 🔭\n",
      "|  Phoenix Project: tracing-agent\n",
      "|  Span Processor: SimpleSpanProcessor\n",
      "|  Collector Endpoint: http://localhost:6006/v1/traces\n",
      "|  Transport: HTTP + protobuf\n",
      "|  Transport Headers: {}\n",
      "|  \n",
      "|  Using a default SpanProcessor. `add_span_processor` will overwrite this default.\n",
      "\n"
     ]
    }
   ],
   "source": [
    "tracer_provider=register(\n",
    "    project_name=project_name,\n",
    "    endpoint = \"http://localhost:6006/v1/traces\",\n",
    "    set_global_tracer_provider=False\n",
    ")"
   ]
  },
  {
   "cell_type": "code",
   "execution_count": 53,
   "id": "1132ceef-1780-469e-b67c-0be275768894",
   "metadata": {},
   "outputs": [
    {
     "name": "stderr",
     "output_type": "stream",
     "text": [
      "Attempting to instrument while already instrumented\n"
     ]
    }
   ],
   "source": [
    "# OpenAIInstrumentor().instrument(tracer_provider = tracer_provider)\n",
    "OpenAIInstrumentor().instrument(tracer_provider = tracer_provider)\n",
    "tracer = tracer_provider.get_tracer(__name__)"
   ]
  },
  {
   "cell_type": "code",
   "execution_count": 54,
   "id": "e36bc7ce-84cc-466f-b300-f9c828b556ea",
   "metadata": {},
   "outputs": [],
   "source": [
    "def start_main_span(messages):\n",
    "    print(f\"Starting main span with messages: {messages}\")\n",
    "\n",
    "    with tracer.start_as_current_span(\n",
    "        \"AgentRun\", openinference_span_kind=\"agent\"\n",
    "    ) as span:\n",
    "        span.set_input(value=messages)\n",
    "        ret = run_agent(messages)\n",
    "        print(f\"Main span run completed with value: {ret}\")\n",
    "        span.set_output(value=ret)\n",
    "        span.set_status(StatusCode.OK)\n",
    "        return ret"
   ]
  },
  {
   "cell_type": "code",
   "execution_count": 74,
   "id": "73e24051-0ffd-4908-81e5-0d6dc776b728",
   "metadata": {},
   "outputs": [
    {
     "name": "stdout",
     "output_type": "stream",
     "text": [
      "Starting main span with messages: [{'role': 'user', 'content': 'Which stores did the best in 2021?'}]\n",
      "Running agent with messages:[{'role': 'user', 'content': 'Which stores did the best in 2021?'}]\n",
      "Making router call to OpenAI\n",
      "Received response with tool calls: sale_lookup and call_JjT4SjhTgf0imYbgqLLzROUh\n",
      "Processing tool calls\n",
      "Making router call to OpenAI\n",
      "No tool calls, returning final response\n",
      "Main span run completed with value: In 2021, the stores that performed the best in terms of total sales are as follows:\n",
      "\n",
      "1. **Store 2970**: $84,454.33\n",
      "2. **Store 3300**: $63,205.33\n",
      "3. **Store 1650**: $62,152.43\n",
      "4. **Store 1540**: $58,777.02\n",
      "5. **Store 1210**: $55,435.62\n",
      "6. **Store 1100**: $52,494.89\n",
      "7. **Store 1320**: $52,407.36\n",
      "8. **Store 2750**: $51,959.20\n",
      "9. **Store 2200**: $51,634.51\n",
      "10. **Store 3080**: $50,704.06\n",
      "\n",
      "These stores had the highest total sales in 2021.\n"
     ]
    }
   ],
   "source": [
    "result = start_main_span([{\"role\": \"user\", \n",
    "                           \"content\": \"Which stores did the best in 2021?\"}])"
   ]
  }
 ],
 "metadata": {
  "kernelspec": {
   "display_name": "agent",
   "language": "python",
   "name": "agent"
  },
  "language_info": {
   "codemirror_mode": {
    "name": "ipython",
    "version": 3
   },
   "file_extension": ".py",
   "mimetype": "text/x-python",
   "name": "python",
   "nbconvert_exporter": "python",
   "pygments_lexer": "ipython3",
   "version": "3.10.12"
  }
 },
 "nbformat": 4,
 "nbformat_minor": 5
}
