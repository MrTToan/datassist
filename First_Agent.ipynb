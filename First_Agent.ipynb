{
 "cells": [
  {
   "cell_type": "code",
   "execution_count": 7,
   "id": "8d0e3f71-b233-4086-ba6d-a426b27a3d0b",
   "metadata": {},
   "outputs": [],
   "source": [
    "from openai import OpenAI\n",
    "import pandas as pd \n",
    "import json\n",
    "import duckdb\n",
    "from pydantic import BaseModel, Field\n",
    "from IPython.display import Markdown\n",
    "import seaborn as sns"
   ]
  },
  {
   "cell_type": "code",
   "execution_count": 8,
   "id": "10689d77-b118-42a7-bc07-2e9f98dc1fc2",
   "metadata": {},
   "outputs": [],
   "source": [
    "from dotenv import load_dotenv\n",
    "import os\n",
    "load_dotenv()\n",
    "api_key = os.getenv(\"OPEN_API_KEY\")\n",
    "client=OpenAI(api_key=api_key)\n",
    "\n",
    "model='gpt-4o-mini'"
   ]
  },
  {
   "cell_type": "code",
   "execution_count": 9,
   "id": "085131cc-76bb-4b86-913c-d1d95c31587b",
   "metadata": {},
   "outputs": [],
   "source": [
    "import phoenix as px\n",
    "from phoenix.otel import register\n",
    "from openinference.instrumentation.openai import OpenAIInstrumentor\n",
    "from openinference.semconv.trace import SpanAttributes\n",
    "from opentelemetry.trace import Status, StatusCode\n",
    "from openinference.instrumentation import TracerProvider"
   ]
  },
  {
   "cell_type": "code",
   "execution_count": 10,
   "id": "391276fc-5b1b-49c4-9089-8db7947bc19e",
   "metadata": {},
   "outputs": [
    {
     "name": "stdout",
     "output_type": "stream",
     "text": [
      "🌍 To view the Phoenix app in your browser, visit http://localhost:6006/\n",
      "📖 For more information on how to use Phoenix, check out https://docs.arize.com/phoenix\n"
     ]
    }
   ],
   "source": [
    "sessions=px.launch_app()"
   ]
  },
  {
   "cell_type": "code",
   "execution_count": 11,
   "id": "4daaebef-8999-4639-9772-8258ffad76fa",
   "metadata": {},
   "outputs": [],
   "source": [
    "project_name=\"tracing-agent\""
   ]
  },
  {
   "cell_type": "code",
   "execution_count": 12,
   "id": "1f278233-02c0-4d92-b34d-2b7c4786f845",
   "metadata": {},
   "outputs": [
    {
     "name": "stdout",
     "output_type": "stream",
     "text": [
      "🔭 OpenTelemetry Tracing Details 🔭\n",
      "|  Phoenix Project: tracing-agent\n",
      "|  Span Processor: SimpleSpanProcessor\n",
      "|  Collector Endpoint: http://localhost:6006/v1/traces\n",
      "|  Transport: HTTP + protobuf\n",
      "|  Transport Headers: {}\n",
      "|  \n",
      "|  Using a default SpanProcessor. `add_span_processor` will overwrite this default.\n",
      "\n"
     ]
    }
   ],
   "source": [
    "tracer_provider=register(\n",
    "    project_name=project_name,\n",
    "    endpoint = \"http://localhost:6006/v1/traces\",\n",
    "    set_global_tracer_provider=False\n",
    ")"
   ]
  },
  {
   "cell_type": "code",
   "execution_count": 13,
   "id": "1132ceef-1780-469e-b67c-0be275768894",
   "metadata": {},
   "outputs": [],
   "source": [
    "# OpenAIInstrumentor().instrument(tracer_provider = tracer_provider)\n",
    "OpenAIInstrumentor().instrument(tracer_provider = tracer_provider)\n",
    "tracer = tracer_provider.get_tracer(__name__)"
   ]
  },
  {
   "cell_type": "code",
   "execution_count": 14,
   "id": "e36bc7ce-84cc-466f-b300-f9c828b556ea",
   "metadata": {},
   "outputs": [],
   "source": [
    "def start_main_span(messages):\n",
    "    print(f\"Starting main span with messages: {messages}\")\n",
    "\n",
    "    with tracer.start_as_current_span(\n",
    "        \"AgentRun\", openinference_span_kind=\"agent\"\n",
    "    ) as span:\n",
    "        span.set_input(value=messages)\n",
    "        ret = run_agent(messages)\n",
    "        print(f\"Main span run completed with value: {ret}\")\n",
    "        span.set_output(value=ret)\n",
    "        span.set_status(StatusCode.OK)\n",
    "        return ret"
   ]
  },
  {
   "cell_type": "code",
   "execution_count": 15,
   "id": "445cc833-e98d-48a7-a77b-17d1db87cea0",
   "metadata": {},
   "outputs": [],
   "source": [
    "transaction_path='/home/toan999/coding/Agent/Store_Sales_Price_Elasticity_Promotions_Data.parquet'"
   ]
  },
  {
   "cell_type": "code",
   "execution_count": 16,
   "id": "fb04e281-8cd3-44e6-94dc-6b9c1441e153",
   "metadata": {},
   "outputs": [],
   "source": [
    "SQL_GENERATE_PROMPT=\"\"\"\n",
    "Generate a SQL to access duckdb based on the prompt. Do not reply anything beside the query. \n",
    "The prompt is {prompt}.\n",
    "\n",
    "The table name is {table_name}.\n",
    "The available columns are {column}.\n",
    "\"\"\""
   ]
  },
  {
   "cell_type": "code",
   "execution_count": 17,
   "id": "962250cd-cf32-4092-9bf7-0530e88a576f",
   "metadata": {},
   "outputs": [],
   "source": [
    "def generate_sql_query(prompt: str, column: list, table_name: str) ->str:\n",
    "    \"\"\"Generate a SQL query based on the prompt\"\"\"\n",
    "    formatted_prompt=SQL_GENERATE_PROMPT.format(prompt=prompt, column=column, table_name=table_name)\n",
    "    completion = client.chat.completions.create(\n",
    "        model=model,\n",
    "        messages=[\n",
    "            {\n",
    "                \"role\": \"user\",\n",
    "                \"content\": formatted_prompt\n",
    "            }\n",
    "        ]\n",
    "    )\n",
    "    return completion.choices[0].message.content"
   ]
  },
  {
   "cell_type": "code",
   "execution_count": 18,
   "id": "ef03d510-0775-4a23-be94-efd185b6254a",
   "metadata": {},
   "outputs": [],
   "source": [
    "@tracer.tool()\n",
    "def sale_lookup(prompt):\n",
    "    try:\n",
    "        # db creation\n",
    "        df = pd.read_parquet(transaction_path)\n",
    "        table_name='sales'\n",
    "        duckdb.sql(f\"CREATE TABLE IF NOT EXISTS {table_name} AS SELECT * from df\")\n",
    "        \n",
    "        # query generation\n",
    "        sql_generated=generate_sql_query(prompt, df.columns,table_name)\n",
    "        sql_final=sql_generated.replace('```sql', '').replace('```','').strip()\n",
    "\n",
    "        with tracer.start_as_current_span(\n",
    "            \"execute_sql_query\",openinference_span_kind=\"chain\"\n",
    "        ) as span:\n",
    "            span.set_input(value=sql_final)\n",
    "        # query execution\n",
    "            result=duckdb.sql(sql_final).df()\n",
    "            span.set_output(value=str(result))\n",
    "            span.set_status(StatusCode.OK)\n",
    "        \n",
    "        return result.to_string()\n",
    "    except Exception as e:\n",
    "        return f\"Error accessing data {str(e)}\""
   ]
  },
  {
   "cell_type": "code",
   "execution_count": 19,
   "id": "a4e03659-2d3c-44ef-abb3-9f458202a36a",
   "metadata": {},
   "outputs": [
    {
     "data": {
      "text/plain": [
       "'    Store_Number  SKU_Coded  Product_Class_Code  Sold_Date  Qty_Sold  Total_Sale_Value  On_Promo\\n0           2970    6172800               22875 2021-11-21         2         37.900002         0\\n1           2970    6172800               22875 2022-04-29         1         18.950001         0\\n2           2970    6172800               22875 2022-07-20         1         18.950001         0\\n3           2970    6172800               22875 2022-08-27         1         18.950001         0\\n4           2970    6172800               22875 2022-12-17         1         18.950001         0\\n5           2970    6172800               22875 2023-02-02         1         18.950001         0\\n6           2970    6172800               22875 2023-03-22         4         75.800003         0\\n7           2970    6172800               22875 2023-04-29         3         56.849998         0\\n8           2970    6172800               22875 2023-05-07         1         18.950001         0\\n9           2970    6172800               22875 2023-08-29         3         56.849998         0\\n10          2970    6172800               22875 2023-09-30         1         18.950001         0\\n11          2970    6172800               22875 2023-12-08         1         18.950001         0\\n12          2970    6172800               22875 2023-12-14         1         18.950001         0\\n13          2970    6172800               22875 2024-02-10         1         19.990000         0\\n14          2970    6172800               22875 2024-03-14         1         19.990000         0\\n15          2970    6172850               22875 2021-11-17         1         19.990000         0\\n16          2970    6172850               22875 2022-01-07         3         59.970001         0\\n17          2970    6172850               22875 2022-06-05         1         19.990000         0\\n18          2970    6172850               22875 2022-06-12         2         39.980000         0\\n19          2970    6172850               22875 2022-10-07         1         19.990000         0'"
      ]
     },
     "execution_count": 19,
     "metadata": {},
     "output_type": "execute_result"
    }
   ],
   "source": [
    "exam_data=sale_lookup('Show me 20 sales of the store with highest number')\n",
    "exam_data"
   ]
  },
  {
   "cell_type": "code",
   "execution_count": 20,
   "id": "79802fb0-f9da-41b1-a68c-6b8ad7c0f7f7",
   "metadata": {},
   "outputs": [],
   "source": [
    "analysis_prompt=\"\"\"\n",
    "Based on provided data {data}, help to answer the needs from {prompt}.\n",
    "\n",
    "Let make analysis to recommend for the growth manager to take immediate action\n",
    "\"\"\""
   ]
  },
  {
   "cell_type": "code",
   "execution_count": 21,
   "id": "d353b08f-bf65-4035-a817-109a2cd044be",
   "metadata": {},
   "outputs": [],
   "source": [
    "@tracer.tool()\n",
    "def sale_analysis(prompt: str, data: str):\n",
    "    \"\"\"Generate data analysis prompt\"\"\"\n",
    "    prompt_final=analysis_prompt.format(data=data, prompt=prompt)\n",
    "    completion=client.chat.completions.create(\n",
    "        model=model,\n",
    "        messages=[\n",
    "            {\n",
    "                \"role\":\"user\",\n",
    "                \"content\":prompt_final\n",
    "            }\n",
    "        ]\n",
    "    )\n",
    "    analysis=completion.choices[0].message.content\n",
    "    return analysis if analysis else \"No info here\""
   ]
  },
  {
   "cell_type": "code",
   "execution_count": 22,
   "id": "8d17ead2-35a3-4c2b-a570-88ddb57d407c",
   "metadata": {
    "scrolled": true
   },
   "outputs": [],
   "source": [
    "insight=sale_analysis('what is its performance?', exam_data)"
   ]
  },
  {
   "cell_type": "code",
   "execution_count": 23,
   "id": "b2a6f434-3af1-4203-90ed-e3b03a8363ba",
   "metadata": {
    "scrolled": true
   },
   "outputs": [
    {
     "data": {
      "text/markdown": [
       "To analyze the provided sales data for Store 2970, focusing on the SKU Coded 6172800 and 6172850 under Product Class Code 22875, we can extract key insights and recommendations based on sales performance over time.\n",
       "\n",
       "### Summary of Insights:\n",
       "\n",
       "1. **Consistent Sales Volume**:\n",
       "   - **SKU 6172800**: Sales are fairly consistent, with occasional spikes — for instance, the highest sales occur on 2023-03-22 (4 units) and 2023-04-29 (3 units).\n",
       "   - **SKU 6172850**: It also shows stable performance with various sales volumes, but no spikes as pronounced as SKU 6172800.\n",
       "\n",
       "2. **Sales Values**:\n",
       "   - **SKU 6172800**: The total sale values range from $18.95 to $75.80, with an average sale value per sale of approximately $23.89 (calculation based on total sales divided by quantity sold).\n",
       "   - **SKU 6172850**: Sales values for this SKU are similar, with total values approximately between $19.99 and $59.97. The average sale value here could be calculated similarly.\n",
       "\n",
       "3. **Promotional Impact**:\n",
       "   - **On-Promo Indicator**: None of the data points indicate items sold on promotion (On_Promo = 0). Promotional strategies could be enhanced to boost sales.\n",
       "\n",
       "4. **Sales Trend Over Time**:\n",
       "   - Sales for **SKU 6172800** show a slight upward trend in the last year with consistent sales each month, indicating a reliable product.\n",
       "   - **SKU 6172850** shows steady sales but without noticeable growth.\n",
       "\n",
       "### Recommendations for the Growth Manager:\n",
       "\n",
       "1. **Promotional Strategies**:\n",
       "   - Launch marketing campaigns or in-store promotions for both SKUs. Given that there have been no promotions so far, it's an opportunity to stimulate demand. Temporary discounts or bundle offers (like “buy one, get one at a discount”) might also encourage higher sales volumes.\n",
       "\n",
       "2. **Monitor Seasonal Trends**:\n",
       "   - Assess whether there are specific months where sales volumes spike (specifically SKU 6172800). Consider creating promotions aligned with these months to maximize sales.\n",
       "\n",
       "3. **Increase Product Visibility**:\n",
       "   - If the sales are stable but not increasing significantly, consider increasing the visibility of these products in-store and online.\n",
       "\n",
       "4. **Customer Feedback and Review**:\n",
       "   - Gather customer feedback regarding both products. Understanding customer preferences can help refine marketing and promotional strategies.\n",
       "\n",
       "5. **Cross-Selling Opportunities**:\n",
       "   - Identify complementary products that could be bundled with SKU 6172800 or 6172850. This strategy can effectively increase average transaction values and improve inventory turnover.\n",
       "\n",
       "6. **Performance Comparison Against Competitors**:\n",
       "   - Conduct a competitor analysis to see how similar products are performing at other locations. This could provide insights into price adjustments or promotional opportunities.\n",
       "\n",
       "7. **Inventory Management**:\n",
       "   - Maintain sufficient stock levels to meet potential peaks in demand, especially ahead of promotional activities. This will ensure that stockouts do not occur, leading to lost sales opportunities.\n",
       "\n",
       "### Conclusion:\n",
       "By leveraging promotional strategies, enhancing product visibility, and responding to customer feedback, the growth manager can stimulate sales growth for both SKU 6172800 and SKU 6172850, creating a stronger overall performance for store 2970. Regular analysis of sales data should continue to inform strategic decisions and optimizations in marketing efforts."
      ],
      "text/plain": [
       "<IPython.core.display.Markdown object>"
      ]
     },
     "execution_count": 23,
     "metadata": {},
     "output_type": "execute_result"
    }
   ],
   "source": [
    "Markdown(insight)"
   ]
  },
  {
   "cell_type": "code",
   "execution_count": 24,
   "id": "0e0e844e-5407-4260-adda-4ed9ffe108b0",
   "metadata": {},
   "outputs": [],
   "source": [
    "chart_config_prompt=\"\"\"\n",
    "Create chart configs to visualize following data \n",
    "{data}\n",
    "The visualization goal is {visualization_goal}\n",
    "\"\"\""
   ]
  },
  {
   "cell_type": "code",
   "execution_count": 25,
   "id": "62af3ed6-1d6f-4056-b694-5c5a61f50276",
   "metadata": {},
   "outputs": [],
   "source": [
    "class VisualizationConfig(BaseModel):\n",
    "    chart_type: str = Field(..., description=\"Type of chart generate\")\n",
    "    x_axis: str = Field(..., description=\"Name of the x-axis column\")\n",
    "    y_axis: str = Field(..., description=\"Name of the y-axis column\")\n",
    "    title: str = Field(..., description=\"Title of the chart\")"
   ]
  },
  {
   "cell_type": "code",
   "execution_count": 26,
   "id": "5b584267-c0e3-40d4-832b-ab13daee8fa1",
   "metadata": {},
   "outputs": [],
   "source": [
    "@tracer.chain()\n",
    "def extract_chart_config(visualization_goal:str, data:str):\n",
    "    \"\"\"generate config from prompt\"\"\"\n",
    "    prompt_final=chart_config_prompt.format(data=data, visualization_goal=visualization_goal)\n",
    "\n",
    "    response=client.beta.chat.completions.parse(\n",
    "        model=model,\n",
    "        messages=[\n",
    "            {\n",
    "                \"role\":\"user\",\n",
    "                \"content\":prompt_final\n",
    "            }\n",
    "        ],\n",
    "        response_format=VisualizationConfig,\n",
    "    )\n",
    "\n",
    "    try:\n",
    "        result=response.choices[0].message.content\n",
    "\n",
    "        return {\n",
    "            \"chart_type\": result.chart_type,\n",
    "            \"x_axis\": result.x_axis,\n",
    "            \"y_axis\": result.y_axis,\n",
    "            \"title\": result.title,\n",
    "            \"data\": data\n",
    "        }\n",
    "    except Exception:\n",
    "        return {\n",
    "            \"chart_type\": \"line\",\n",
    "            \"x_axis\": \"date\",\n",
    "            \"y_axis\": \"value\",\n",
    "            \"title\": visualization_goal,\n",
    "            \"data\": data\n",
    "        }"
   ]
  },
  {
   "cell_type": "code",
   "execution_count": 27,
   "id": "77f83d92-6a18-4319-9e05-e545b5c852c7",
   "metadata": {},
   "outputs": [],
   "source": [
    "create_chart_prompt=\"\"\"\n",
    "From the follow config \n",
    "{chart_config}\n",
    "\n",
    "Write executable python code to create a chart. Just return codes, no other text.\n",
    "\"\"\""
   ]
  },
  {
   "cell_type": "code",
   "execution_count": 28,
   "id": "a7cb0f5f-905b-4eef-91ce-e9b4ef2eb9fb",
   "metadata": {},
   "outputs": [],
   "source": [
    "@tracer.chain()\n",
    "def create_chart(config:str):\n",
    "    prompt_final=create_chart_prompt.format(chart_config=config)\n",
    "    response=client.chat.completions.create(\n",
    "        model=model,\n",
    "        messages=[\n",
    "            {\n",
    "                \"role\":\"user\",\n",
    "                \"content\":prompt_final\n",
    "            }\n",
    "        ],\n",
    "    )\n",
    "    result=response.choices[0].message.content\n",
    "    code=result.replace('```python','').replace('```','').strip()\n",
    "    return code"
   ]
  },
  {
   "cell_type": "code",
   "execution_count": 29,
   "id": "5a13055e-c590-4cd8-a0e7-1809ddd45acc",
   "metadata": {},
   "outputs": [],
   "source": [
    "@tracer.tool()\n",
    "def generate_visualization(visualization_goal, data):\n",
    "    config=extract_chart_config(visualization_goal, data)\n",
    "    code=create_chart(config)\n",
    "    return code"
   ]
  },
  {
   "cell_type": "code",
   "execution_count": 30,
   "id": "447b1126-f112-4abe-b5ec-f189fe437c85",
   "metadata": {},
   "outputs": [
    {
     "name": "stdout",
     "output_type": "stream",
     "text": [
      "    Store_Number  SKU_Coded  Product_Class_Code  Sold_Date  Qty_Sold  Total_Sale_Value  On_Promo\n",
      "0           2970    6172800               22875 2021-11-21         2         37.900002         0\n",
      "1           2970    6172800               22875 2022-04-29         1         18.950001         0\n",
      "2           2970    6172800               22875 2022-07-20         1         18.950001         0\n",
      "3           2970    6172800               22875 2022-08-27         1         18.950001         0\n",
      "4           2970    6172800               22875 2022-12-17         1         18.950001         0\n",
      "5           2970    6172800               22875 2023-02-02         1         18.950001         0\n",
      "6           2970    6172800               22875 2023-03-22         4         75.800003         0\n",
      "7           2970    6172800               22875 2023-04-29         3         56.849998         0\n",
      "8           2970    6172800               22875 2023-05-07         1         18.950001         0\n",
      "9           2970    6172800               22875 2023-08-29         3         56.849998         0\n",
      "10          2970    6172800               22875 2023-09-30         1         18.950001         0\n",
      "11          2970    6172800               22875 2023-12-08         1         18.950001         0\n",
      "12          2970    6172800               22875 2023-12-14         1         18.950001         0\n",
      "13          2970    6172800               22875 2024-02-10         1         19.990000         0\n",
      "14          2970    6172800               22875 2024-03-14         1         19.990000         0\n",
      "15          2970    6172850               22875 2021-11-17         1         19.990000         0\n",
      "16          2970    6172850               22875 2022-01-07         3         59.970001         0\n",
      "17          2970    6172850               22875 2022-06-05         1         19.990000         0\n",
      "18          2970    6172850               22875 2022-06-12         2         39.980000         0\n",
      "19          2970    6172850               22875 2022-10-07         1         19.990000         0\n"
     ]
    }
   ],
   "source": [
    "smp_data=sale_lookup('Show me 20 sales of the store with highest number')\n",
    "print(smp_data)"
   ]
  },
  {
   "cell_type": "code",
   "execution_count": 31,
   "id": "f0b4aebd-bcfa-400a-883a-6b96b3351057",
   "metadata": {},
   "outputs": [],
   "source": [
    "chart_code=generate_visualization('a chart of sale by product SKU. Put the product SKU on x axis and sum of sale on the y axis', smp_data)"
   ]
  },
  {
   "cell_type": "code",
   "execution_count": 32,
   "id": "810998e0-a8be-4228-9136-e048f8aad1f2",
   "metadata": {},
   "outputs": [
    {
     "name": "stdout",
     "output_type": "stream",
     "text": [
      "import pandas as pd\n",
      "import matplotlib.pyplot as plt\n",
      "\n",
      "# Data preparation\n",
      "data = {\n",
      "    'Store_Number': [2970]*16 + [2970]*5,\n",
      "    'SKU_Coded': [6172800]*14 + [6172850]*5,\n",
      "    'Product_Class_Code': [22875]*19,\n",
      "    'Sold_Date': [\n",
      "        '2021-11-21', '2022-04-29', '2022-07-20', '2022-08-27', '2022-12-17',\n",
      "        '2023-02-02', '2023-03-22', '2023-04-29', '2023-05-07', '2023-08-29',\n",
      "        '2023-09-30', '2023-12-08', '2023-12-14', '2024-02-10', '2024-03-14',\n",
      "        '2021-11-17', '2022-01-07', '2022-06-05', '2022-06-12', '2022-10-07'\n",
      "    ],\n",
      "    'Qty_Sold': [2, 1, 1, 1, 1, 1, 4, 3, 1, 3, 1, 1, 1, 1, 1, 1, 3, 1, 2, 1],\n",
      "    'Total_Sale_Value': [\n",
      "        37.900002, 18.950001, 18.950001, 18.950001, 18.950001, 18.950001,\n",
      "        75.800003, 56.849998, 18.950001, 56.849998, 18.950001, 18.950001,\n",
      "        18.950001, 19.990000, 19.990000, 19.990000, 59.970001, 19.990000,\n",
      "        39.980000, 19.990000\n",
      "    ]\n",
      "}\n",
      "\n",
      "df = pd.DataFrame(data)\n",
      "df['Sold_Date'] = pd.to_datetime(df['Sold_Date'])\n",
      "df['Total_Sale_Value'] = df['Total_Sale_Value'].astype(float)\n",
      "\n",
      "# Grouping data\n",
      "grouped_data = df.groupby(['SKU_Coded', 'Sold_Date']).agg({'Qty_Sold': 'sum', 'Total_Sale_Value': 'sum'}).reset_index()\n",
      "\n",
      "# Plotting\n",
      "plt.figure(figsize=(12, 6))\n",
      "for sku in grouped_data['SKU_Coded'].unique():\n",
      "    subset = grouped_data[grouped_data['SKU_Coded'] == sku]\n",
      "    plt.plot(subset['Sold_Date'], subset['Total_Sale_Value'], marker='o', label=f'SKU {sku}')\n",
      "    \n",
      "plt.title('A Chart of Sale by Product SKU')\n",
      "plt.xlabel('Date')\n",
      "plt.ylabel('Sum of Sale Value')\n",
      "plt.legend(title='SKU Coded')\n",
      "plt.xticks(rotation=45)\n",
      "plt.tight_layout()\n",
      "plt.show()\n"
     ]
    }
   ],
   "source": [
    "print(chart_code)"
   ]
  },
  {
   "cell_type": "code",
   "execution_count": 34,
   "id": "a85b0b01-f458-41e4-986c-9c3053388e50",
   "metadata": {},
   "outputs": [],
   "source": [
    "tools = [{\n",
    "    \"type\": \"function\",\n",
    "    \"function\": {\n",
    "        \"name\": \"sale_lookup\",\n",
    "        \"description\": \"Look up data from Store Sales Price Elasticity Promotions dataset\",\n",
    "        \"parameters\": {\n",
    "            \"type\": \"object\",\n",
    "            \"properties\": {\n",
    "                \"prompt\": {\n",
    "                    \"type\": \"string\",\n",
    "                    \"description\": \"The unchanged prompt users provided\"\n",
    "                }\n",
    "            },\n",
    "            \"required\": [\"prompt\"]\n",
    "        }\n",
    "    }\n",
    "},\n",
    "    {\n",
    "    \"type\": \"function\",\n",
    "    \"function\": {\n",
    "        \"name\": \"sale_analysis\",\n",
    "        \"description\": \"Analyze sales data to extract insights\",\n",
    "        \"parameters\": {\n",
    "            \"type\": \"object\",\n",
    "            \"properties\": {\n",
    "                \"data\": {\"type\": \"string\", \"description\": \"The output from sale_lookup tool\"},\n",
    "                \"prompt\":{\"type\":\"string\", \"description\": \"The unchanged prompt users provided\"}\n",
    "            },\n",
    "            \"required\": [\"data\", \"prompt\"]\n",
    "        }\n",
    "    }\n",
    "    },\n",
    "    {\n",
    "    \"type\": \"function\",\n",
    "    \"function\": {\n",
    "        \"name\": \"generate_visualization\",\n",
    "        \"description\": \"Generate Python code to create data visualizations\",\n",
    "        \"parameters\": {\n",
    "            \"type\": \"object\",\n",
    "            \"properties\": {\n",
    "                \"data\": {\"type\": \"string\", \"description\": \"The output from sale_lookup tool\"},\n",
    "                \"visualization_goal\":{\"type\":\"string\", \"description\": \"The goal of visualization\"}\n",
    "            },\n",
    "            \"required\": [\"prompt\", \"visualization_goal\"]\n",
    "        }\n",
    "    }\n",
    "}]"
   ]
  },
  {
   "cell_type": "code",
   "execution_count": 35,
   "id": "f77a4cb2-e304-4a20-8ef1-dd9851385cb4",
   "metadata": {},
   "outputs": [],
   "source": [
    "tool_implementation={\n",
    "    \"sale_lookup\": sale_lookup,\n",
    "    \"sale_analysis\": sale_analysis,\n",
    "    \"generate_visualization\": generate_visualization\n",
    "}"
   ]
  },
  {
   "cell_type": "code",
   "execution_count": 36,
   "id": "6c845273-2c18-40f4-a4ee-fb89e7d7c917",
   "metadata": {},
   "outputs": [],
   "source": [
    "SYSTEM_PROMPT=\"You are a helpfull assistant to help users understand insights from this dataset\""
   ]
  },
  {
   "cell_type": "code",
   "execution_count": 37,
   "id": "0a36088f-2040-4fdf-a6b6-7adb73594ca9",
   "metadata": {},
   "outputs": [],
   "source": [
    "@tracer.chain()\n",
    "def handle_tool_calls(tool_calls, message):\n",
    "    for tool in tool_calls:\n",
    "        function=tool_implementation[tool.function.name]\n",
    "        args=json.loads(tool.function.arguments)\n",
    "        result=function(**args)\n",
    "        message.append({\"role\":\"tool\", \"content\":result, \"tool_call_id\": tool.id})\n",
    "        return message"
   ]
  },
  {
   "cell_type": "code",
   "execution_count": 38,
   "id": "c317fafb-645d-4253-83a1-2f9aaecb44dd",
   "metadata": {},
   "outputs": [],
   "source": [
    "def run_agent(messages):\n",
    "    print(f\"Running agent with messages:{messages}\")\n",
    "\n",
    "    if isinstance(messages, str):\n",
    "        messages = [{\"role\": \"user\", \"content\": messages}]\n",
    "        \n",
    "    # Check and add system prompt if needed\n",
    "    if not any(\n",
    "            isinstance(message, dict) and message.get(\"role\") == \"system\" for message in messages\n",
    "        ):\n",
    "            system_prompt = {\"role\": \"system\", \"content\": SYSTEM_PROMPT}\n",
    "            messages.append(system_prompt)\n",
    "\n",
    "\n",
    "    while True:\n",
    "        # Router Span\n",
    "        print(\"Making router call to OpenAI\")\n",
    "        with tracer.start_as_current_span(\n",
    "            \"router_call\", openinference_span_kind='chain'\n",
    "        ) as span:\n",
    "            span.set_input(value=messages)\n",
    "            response=client.chat.completions.create(\n",
    "                model=model,\n",
    "                messages=messages,\n",
    "                tools=tools,\n",
    "            )\n",
    "    \n",
    "            messages.append(response.choices[0].message)\n",
    "            tool_calls=response.choices[0].message.tool_calls\n",
    "            if tool_calls:\n",
    "                span.set_status(StatusCode.OK)\n",
    "                print(f\"Received response with tool calls: {tool_calls[0].function.name} and {tool_calls[0].id}\")\n",
    "                print(\"Processing tool calls\")\n",
    "                messages=handle_tool_calls(tool_calls, messages)\n",
    "                span.set_output(value=tool_calls)\n",
    "    \n",
    "            else:\n",
    "                print(\"No tool calls, returning final response\")\n",
    "                span.set_output(value=response.choices[0].message.content)\n",
    "                return response.choices[0].message.content"
   ]
  },
  {
   "cell_type": "code",
   "execution_count": 42,
   "id": "603c20e4-574d-4fc6-b640-35f61dab502c",
   "metadata": {},
   "outputs": [
    {
     "name": "stdout",
     "output_type": "stream",
     "text": [
      "Starting main span with messages: Show me the code for graph of sales by store in Dec 2021, and make analysis.\n",
      "Running agent with messages:Show me the code for graph of sales by store in Dec 2021, and make analysis.\n",
      "Making router call to OpenAI\n",
      "Received response with tool calls: sale_lookup and call_ibYFUgLcdBXYh6lp1UgaLF3p\n",
      "Processing tool calls\n",
      "Making router call to OpenAI\n",
      "Received response with tool calls: sale_analysis and call_1FXqC2WzeGtppZiossQnzAuw\n",
      "Processing tool calls\n",
      "Making router call to OpenAI\n",
      "Received response with tool calls: generate_visualization and call_qeNJ9VUGC0Y4BM87Z5095Q3T\n",
      "Processing tool calls\n",
      "Making router call to OpenAI\n",
      "No tool calls, returning final response\n",
      "Main span run completed with value: Here's the analysis and code for visualizing the sales data by store for December 2021.\n",
      "\n",
      "### Analysis Summary:\n",
      "1. **Overall Sales Performance**:\n",
      "   - **Total Sales Units**: 69,074 sold across all stores.\n",
      "   - **Total Sales Revenue**: Approximately $900,000.\n",
      "   - **Average Sales Revenue per Store**: Approximately $27,836.\n",
      "\n",
      "2. **Top and Bottom Performing Stores**:\n",
      "   - **Top Store**: Store 3300 with a total sales value of $39,474.61.\n",
      "   - **Bottom Store**: Store 4400 with a total sales value of $6,061.75.\n",
      "\n",
      "3. **Sales Efficiency**:\n",
      "   - Average Sale Price Per Unit varies across stores; identifying efficient pricing strategies could improve overall profit margins.\n",
      "\n",
      "4. **Recommendations for Growth**:\n",
      "   - Initiate promotions in underperforming stores.\n",
      "   - Expand successful product offerings in top-performing stores.\n",
      "   - Review pricing strategies to enhance sales across all locations.\n",
      "\n",
      "### Visualization Code:\n",
      "Below is the Python code used to generate the bar chart displaying total sales value by store:\n",
      "```python\n",
      "import pandas as pd\n",
      "import matplotlib.pyplot as plt\n",
      "\n",
      "# Data as a string\n",
      "data_str = \"\"\"Store_Number  Total_Qty_Sold  Total_Sale_Value\n",
      "0           1320          2892.0      32853.569915\n",
      "1           2640          1647.0      20872.250000\n",
      "2           3080          2676.0      32659.609960\n",
      "3           4070          1828.0      21321.059979\n",
      "4           1540          3116.0      37569.329945\n",
      "5           2090          2134.0      23003.409946\n",
      "6           4730          1654.0      18747.209966\n",
      "7           4840          2724.0      29933.489884\n",
      "8            880          2353.0      31668.100037\n",
      "9           1650          2903.0      38965.520022\n",
      "10           550          1301.0      16161.550002\n",
      "11          4180          1875.0      21071.019946\n",
      "12          3190          2003.0      24083.250015\n",
      "13          3300          3265.0      39474.609946\n",
      "14          1100          2564.0      33196.209952\n",
      "15          1760          2658.0      30765.979889\n",
      "16           330          1925.0      21555.029918\n",
      "17          1210          2583.0      34413.949924\n",
      "18          1980          1776.0      17433.159965\n",
      "19          2750          2951.0      35648.789999\n",
      "20           770          1684.0      17978.159951\n",
      "21           660          2141.0      22993.589873\n",
      "22          2420          2550.0      26545.169849\n",
      "23          2200          2692.0      34780.070020\n",
      "24          2310          2521.0      28763.669892\n",
      "25          3630          2342.0      29063.319957\n",
      "26          1870          2668.0      30694.519899\n",
      "27          2970          3555.0      53453.759857\n",
      "28          4400           292.0       6061.750041\n",
      "29          2530          1862.0      20844.890021\n",
      "30          3740          2244.0      26977.429915\n",
      "31          3410          2227.0      26714.789922\n",
      "32           990          2118.0      24713.900014\"\"\"\n",
      "\n",
      "# Create a DataFrame\n",
      "from io import StringIO\n",
      "data = pd.read_csv(StringIO(data_str), sep=r'\\s+')\n",
      "\n",
      "# Plotting the chart\n",
      "plt.figure(figsize=(10, 6))\n",
      "plt.bar(data['Store_Number'], data['Total_Sale_Value'], color='skyblue')\n",
      "plt.title('Total Sales Value by Store for December 2021')\n",
      "plt.xlabel('Store Number')\n",
      "plt.ylabel('Total Sales Value')\n",
      "plt.xticks(rotation=45)\n",
      "plt.tight_layout()\n",
      "plt.show()\n",
      "```\n",
      "This code will generate a bar chart illustrating the total sales value for each store in December 2021. You can run this code in a Python environment with the necessary libraries installed (like pandas and matplotlib) to visualize the data.\n"
     ]
    }
   ],
   "source": [
    "result = start_main_span('Show me the code for graph of sales by store in Dec 2021, and make analysis.')"
   ]
  },
  {
   "cell_type": "code",
   "execution_count": 41,
   "id": "d8b1bd24-9322-4c8f-bcbd-b34fa1de831e",
   "metadata": {
    "scrolled": true
   },
   "outputs": [
    {
     "data": {
      "text/markdown": [
       "### Analysis of Sales Data by Store in December 2021\n",
       "\n",
       "#### Overall Sales Overview:\n",
       "- **Total Quantity Sold**: 52,883 units\n",
       "- **Total Sales Value**: $693,956.45\n",
       "- **Average Sales Value per Store**: ~$21,035.11 \n",
       "- **Average Quantity Sold per Store**: ~1,604.37\n",
       "- **Average Sales per Unit**: ~$13.13/unit\n",
       "\n",
       "#### Top and Bottom Performing Stores:\n",
       "- **Top 5 Stores by Total Sales Value**:\n",
       "  - Store 2904: $53,453.76\n",
       "  - Store 1540: $37,569.33\n",
       "  - Store 1320: $32,853.57\n",
       "  - Store 3080: $32,659.61\n",
       "  - Store 1650: $38,965.52\n",
       "  \n",
       "- **Bottom 5 Stores by Total Sales Value**:\n",
       "  - Store 4400: $6,061.75\n",
       "  - Store 550: $16,161.55\n",
       "  - Store 4730: $18,747.21\n",
       "  - Store 770: $17,978.16\n",
       "  - Store 1980: $17,433.16\n",
       "\n",
       "#### Recommendations:\n",
       "- Investigate underperforming stores for potential improvement strategies.\n",
       "- Learn from top-performing stores to replicate successful strategies.\n",
       "- Implement targeted marketing towards lower sales stores to boost performance.\n",
       "\n",
       "### Visualization Code:\n",
       "Here is the Python code used to generate the graph displaying the sales by store in December 2021.\n",
       "\n",
       "```python\n",
       "import pandas as pd\n",
       "import matplotlib.pyplot as plt\n",
       "\n",
       "data = {\n",
       "    'Store_Number': [1320, 2640, 3080, 4070, 1540, 2090, 4730, 4840, 880, 1650, \n",
       "                     550, 4180, 2200, 2310, 3630, 1870, 1760, 330, 1210, \n",
       "                     1980, 2750, 3410, 990, 770, 660, 2420, 3190, 3300, \n",
       "                     1100, 2970, 4400, 2530, 3740],\n",
       "    'Total_Quantity_Sold': [2892.0, 1647.0, 2676.0, 1828.0, 3116.0, 2134.0, \n",
       "                            1654.0, 2724.0, 2353.0, 2903.0, 1301.0, 1875.0, \n",
       "                            2692.0, 2521.0, 2342.0, 2668.0, 2658.0, 1925.0, \n",
       "                            2583.0, 1776.0, 2951.0, 2227.0, 2118.0, 1684.0, \n",
       "                            2141.0, 2550.0, 2003.0, 3265.0, 2564.0, 3555.0, \n",
       "                            292.0, 1862.0, 2244.0],\n",
       "    'Total_Sales_Value': [32853.569915, 20872.25, 32659.60996, 21321.059979, \n",
       "                          37569.329945, 23003.409946, 18747.209966, 29933.489884, \n",
       "                          31668.100037, 38965.520022, 16161.550002, 21071.019946, \n",
       "                          34780.07002, 28763.669892, 29063.319957, 30694.519899, \n",
       "                          30765.979889, 21555.029918, 34413.949924, 17433.159965, \n",
       "                          35648.789999, 26714.789922, 24713.900014, 17978.159951, \n",
       "                          22993.589873, 26545.169849, 24083.250015, 39474.609946, \n",
       "                          33196.209952, 53453.759857, 6061.750041, 20844.890021, \n",
       "                          26977.429915]\n",
       "}\n",
       "\n",
       "df = pd.DataFrame(data)\n",
       "plt.figure(figsize=(10, 5))\n",
       "plt.plot(df['Store_Number'], df['Total_Sales_Value'], marker='o')\n",
       "plt.title('Sales by Store in December 2021')\n",
       "plt.xlabel('Store Number')\n",
       "plt.ylabel('Total Sales Value')\n",
       "plt.xticks(rotation=45)\n",
       "plt.grid()\n",
       "plt.tight_layout()\n",
       "plt.show()\n",
       "```\n",
       "\n",
       "This code creates a line graph that illustrates the total sales by each store, providing a clear visualization of performance across the board. If you need further assistance or modifications to the analysis or the visualization, feel free to ask!"
      ],
      "text/plain": [
       "<IPython.core.display.Markdown object>"
      ]
     },
     "execution_count": 41,
     "metadata": {},
     "output_type": "execute_result"
    }
   ],
   "source": [
    "Markdown(result)"
   ]
  },
  {
   "cell_type": "code",
   "execution_count": null,
   "id": "a44642ba-be45-4cc0-9f91-82904e1d9f4d",
   "metadata": {},
   "outputs": [],
   "source": [
    "import pandas as pd\n",
    "import matplotlib.pyplot as plt\n",
    "\n",
    "data = {\n",
    "    'Store_Number': [1540, 4840, 3080, 1320, 4070, 4730, 2090, 2640, 330, 1210, 1760, 2750, 1980, 4400, 2530, 3740, 2970, 1650, 880, 4180, 550, 3630, 2200, 1870, 2310, 3410, 990, 660, 2420, 770, 1100, 3190, 3300],\n",
    "    'Total_Qty_Sold': [3116.0, 2724.0, 2676.0, 2892.0, 1828.0, 1654.0, 2134.0, 1647.0, 1925.0, 2583.0, 2658.0, 2951.0, 1776.0, 292.0, 1862.0, 2244.0, 3555.0, 2903.0, 2353.0, 1875.0, 1301.0, 2342.0, 2692.0, 2668.0, 2521.0, 2227.0, 2118.0, 2141.0, 2550.0, 1684.0, 2564.0, 2003.0, 3265.0],\n",
    "    'Total_Sale_Value': [37569.329945, 29933.489884, 32659.609960, 32853.569915, 21321.059979, 18747.209966, 23003.409946, 20872.250000, 21555.029918, 34413.949924, 30765.979889, 35648.789999, 17433.159965, 6061.750041, 20844.890021, 26977.429915, 53453.759857, 38965.520022, 31668.100037, 21071.019946, 16161.550002, 29063.319957, 34780.070020, 30694.519899, 28763.669892, 26714.789922, 24713.900014, 22993.589873, 26545.169849, 17978.159951, 33196.209952, 24083.250015, 39474.609946]\n",
    "}\n",
    "\n",
    "df = pd.DataFrame(data)\n",
    "\n",
    "plt.figure(figsize=(12, 6))\n",
    "plt.bar(df['Store_Number'].astype(str), df['Total_Sale_Value'], color='skyblue')\n",
    "plt.title('Sales by Store for December 2021')\n",
    "plt.xlabel('Store Number')\n",
    "plt.ylabel('Total Sale Value')\n",
    "plt.xticks(rotation=45)\n",
    "plt.tight_layout()\n",
    "plt.show()\n"
   ]
  },
  {
   "cell_type": "code",
   "execution_count": null,
   "id": "73e24051-0ffd-4908-81e5-0d6dc776b728",
   "metadata": {},
   "outputs": [],
   "source": [
    "result = start_main_span([{\"role\": \"user\", \n",
    "                           \"content\": \"Which stores did the best in 2021?\"}])"
   ]
  },
  {
   "cell_type": "code",
   "execution_count": null,
   "id": "b87c4bd3-ef81-478c-b38d-98e49ed6d335",
   "metadata": {},
   "outputs": [],
   "source": []
  },
  {
   "cell_type": "code",
   "execution_count": null,
   "id": "f3da1c07-14ce-46f4-8f8c-5238840c2717",
   "metadata": {},
   "outputs": [],
   "source": []
  }
 ],
 "metadata": {
  "kernelspec": {
   "display_name": "agent",
   "language": "python",
   "name": "agent"
  },
  "language_info": {
   "codemirror_mode": {
    "name": "ipython",
    "version": 3
   },
   "file_extension": ".py",
   "mimetype": "text/x-python",
   "name": "python",
   "nbconvert_exporter": "python",
   "pygments_lexer": "ipython3",
   "version": "3.10.12"
  }
 },
 "nbformat": 4,
 "nbformat_minor": 5
}
