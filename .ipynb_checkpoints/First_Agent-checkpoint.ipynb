{
 "cells": [
  {
   "cell_type": "code",
   "execution_count": 3,
   "id": "8d0e3f71-b233-4086-ba6d-a426b27a3d0b",
   "metadata": {},
   "outputs": [],
   "source": [
    "from openai import OpenAI\n",
    "import pandas as pd \n",
    "import json\n",
    "import duckdb\n",
    "from pydantic import BaseModel, Field\n",
    "from IPython.display import Markdown\n",
    "import seaborn as sns"
   ]
  },
  {
   "cell_type": "code",
   "execution_count": 4,
   "id": "10689d77-b118-42a7-bc07-2e9f98dc1fc2",
   "metadata": {},
   "outputs": [],
   "source": [
    "from dotenv import load_dotenv\n",
    "import os\n",
    "load_dotenv()\n",
    "api_key = os.getenv(\"OPEN_API_KEY\")\n",
    "client=OpenAI(api_key=api_key)\n",
    "\n",
    "model='gpt-4o-mini'"
   ]
  },
  {
   "cell_type": "code",
   "execution_count": 5,
   "id": "445cc833-e98d-48a7-a77b-17d1db87cea0",
   "metadata": {},
   "outputs": [],
   "source": [
    "transaction_path='/home/toan999/coding/Agent/Store_Sales_Price_Elasticity_Promotions_Data.parquet'"
   ]
  },
  {
   "cell_type": "code",
   "execution_count": 6,
   "id": "fb04e281-8cd3-44e6-94dc-6b9c1441e153",
   "metadata": {},
   "outputs": [],
   "source": [
    "SQL_GENERATE_PROMPT=\"\"\"\n",
    "Generate a SQL to access duckdb based on the prompt. Do not reply anything beside the query. \n",
    "The prompt is {prompt}.\n",
    "\n",
    "The table name is {table_name}.\n",
    "The available columns are {column}.\n",
    "\"\"\""
   ]
  },
  {
   "cell_type": "code",
   "execution_count": 7,
   "id": "962250cd-cf32-4092-9bf7-0530e88a576f",
   "metadata": {},
   "outputs": [],
   "source": [
    "def generate_sql_query(prompt: str, column: list, table_name: str) ->str:\n",
    "    \"\"\"Generate a SQL query based on the prompt\"\"\"\n",
    "    formatted_prompt=SQL_GENERATE_PROMPT.format(prompt=prompt, column=column, table_name=table_name)\n",
    "    completion = client.chat.completions.create(\n",
    "        model=model,\n",
    "        messages=[\n",
    "            {\n",
    "                \"role\": \"user\",\n",
    "                \"content\": formatted_prompt\n",
    "            }\n",
    "        ]\n",
    "    )\n",
    "    return completion.choices[0].message.content"
   ]
  },
  {
   "cell_type": "code",
   "execution_count": 8,
   "id": "ef03d510-0775-4a23-be94-efd185b6254a",
   "metadata": {},
   "outputs": [],
   "source": [
    "\n",
    "def sale_lookup(prompt):\n",
    "    try:\n",
    "        # db creation\n",
    "        df = pd.read_parquet(transaction_path)\n",
    "        table_name='sales'\n",
    "        duckdb.sql(f\"CREATE TABLE IF NOT EXISTS {table_name} AS SELECT * from df\")\n",
    "        \n",
    "        # query generation\n",
    "        sql_generated=generate_sql_query(prompt, df.columns,table_name)\n",
    "        sql_final=sql_generated.replace('```sql', '').replace('```','').strip()\n",
    "        \n",
    "        # query execution\n",
    "        result=duckdb.sql(sql_final).df()\n",
    "        \n",
    "        return result.to_string()\n",
    "    except Exception as e:\n",
    "        return f\"Error accessing data {str(e)}\""
   ]
  },
  {
   "cell_type": "code",
   "execution_count": 9,
   "id": "a4e03659-2d3c-44ef-abb3-9f458202a36a",
   "metadata": {},
   "outputs": [
    {
     "data": {
      "text/plain": [
       "'    Store_Number  SKU_Coded  Product_Class_Code  Sold_Date  Qty_Sold  Total_Sale_Value  On_Promo\\n0           2970    6178100               22800 2022-10-16         1          4.990000         0\\n1           2970    6178100               22800 2022-10-18         6         29.940001         0\\n2           2970    6178100               22800 2022-10-19         1          4.990000         0\\n3           2970    6178100               22800 2022-10-20         1          4.990000         0\\n4           2970    6178100               22800 2022-10-21         1          4.990000         0\\n5           2970    6178100               22800 2022-10-22         4         19.959999         0\\n6           2970    6178100               22800 2022-10-23         1          4.990000         0\\n7           2970    6178100               22800 2022-10-24         2          9.980000         0\\n8           2970    6178100               22800 2022-10-25         1          4.990000         0\\n9           2970    6178100               22800 2022-10-26         1          4.990000         0\\n10          2970    6178100               22800 2022-11-03         1          4.990000         0\\n11          2970    6178100               22800 2022-11-05         2          9.980000         0\\n12          2970    6178100               22800 2022-11-08         3         14.970000         0\\n13          2970    6178100               22800 2022-11-09         1          4.990000         0\\n14          2970    6178100               22800 2022-11-12         2          9.980000         0\\n15          2970    6178100               22800 2022-11-14         2          9.980000         0\\n16          2970    6178100               22800 2022-11-16         1          4.990000         0\\n17          2970    6178100               22800 2022-11-19         1          4.990000         0\\n18          2970    6178100               22800 2022-11-20         1          4.990000         0\\n19          2970    6178100               22800 2022-11-21         1          4.990000         0'"
      ]
     },
     "execution_count": 9,
     "metadata": {},
     "output_type": "execute_result"
    }
   ],
   "source": [
    "exam_data=sale_lookup('Show me 20 sales of the store with highest number')\n",
    "exam_data"
   ]
  },
  {
   "cell_type": "code",
   "execution_count": 10,
   "id": "79802fb0-f9da-41b1-a68c-6b8ad7c0f7f7",
   "metadata": {},
   "outputs": [],
   "source": [
    "analysis_prompt=\"\"\"\n",
    "Based on provided data {data}, help to answer the needs from {prompt}.\n",
    "\n",
    "Let make analysis to recommend for the growth manager to take immediate action\n",
    "\"\"\""
   ]
  },
  {
   "cell_type": "code",
   "execution_count": 11,
   "id": "d353b08f-bf65-4035-a817-109a2cd044be",
   "metadata": {},
   "outputs": [],
   "source": [
    "def sale_analysis(prompt: str, data: str):\n",
    "    \"\"\"Generate data analysis prompt\"\"\"\n",
    "    prompt_final=analysis_prompt.format(data=data, prompt=prompt)\n",
    "    completion=client.chat.completions.create(\n",
    "        model=model,\n",
    "        messages=[\n",
    "            {\n",
    "                \"role\":\"user\",\n",
    "                \"content\":prompt_final\n",
    "            }\n",
    "        ]\n",
    "    )\n",
    "    analysis=completion.choices[0].message.content\n",
    "    return analysis if analysis else \"No info here\""
   ]
  },
  {
   "cell_type": "code",
   "execution_count": 12,
   "id": "8d17ead2-35a3-4c2b-a570-88ddb57d407c",
   "metadata": {
    "scrolled": true
   },
   "outputs": [],
   "source": [
    "insight=sale_analysis('what is its performance?', exam_data)"
   ]
  },
  {
   "cell_type": "code",
   "execution_count": 13,
   "id": "b2a6f434-3af1-4203-90ed-e3b03a8363ba",
   "metadata": {
    "scrolled": true
   },
   "outputs": [
    {
     "data": {
      "text/markdown": [
       "To analyze the performance of the sales data provided, we'll look into various metrics, trends, and recommendations that can help the growth manager make informed decisions.\n",
       "\n",
       "### Analysis\n",
       "\n",
       "1. **Sales Overview**:\n",
       "   - Total Quantity Sold: \n",
       "   \\[\n",
       "   1 + 6 + 1 + 1 + 1 + 4 + 1 + 2 + 1 + 1 + 1 + 2 + 3 + 1 + 2 + 2 + 1 + 1 + 1 + 1 = 38\n",
       "   \\]\n",
       "   - Total Sale Value:\n",
       "   \\[\n",
       "   4.99 + 29.94 + 4.99 + 4.99 + 4.99 + 19.96 + 4.99 + 9.98 + 4.99 + 4.99 + 4.99 + 9.98 + 14.97 + 4.99 + 9.98 + 9.98 + 4.99 + 4.99 + 4.99 + 4.99 = 122.54\n",
       "   \\]\n",
       "\n",
       "2. **Sales Trend**:\n",
       "   - **Monthly Breakdown**: The sales data covers a period from October 16, 2022, to November 21, 2022. \n",
       "   - Analyzing the number of transactions, November shows steady sales after a spike in sales on October 18 (with 6 units sold). This indicates potential interest or demand that could be further examined.\n",
       "  \n",
       "3. **Sales by Day**:\n",
       "   - Sales are somewhat consistent, with daily transactions varying from 1 to 6 units.\n",
       "   - No significant dips or spikes in sales performance in a week-by-week analysis, but some weekdays (like the 18th) may indicate specific promotions or events driving sales.\n",
       "\n",
       "4. **Promotions Analysis**:\n",
       "   - The data shows that none of the sales were on promotion (On_Promo = 0). This indicates no advertising or discounts were used to drive sales.\n",
       "\n",
       "### Key Insights\n",
       "\n",
       "1. **No Promotional Activity**: \n",
       "   - The lack of promotions may suggest an opportunity for growth. Creating targeted promotions could boost sales.\n",
       "  \n",
       "2. **Consistent Demand**: \n",
       "   - There is consistent demand with a total of 38 units sold in just over a month. This indicates a stable customer base that can be further engaged.\n",
       "\n",
       "3. **Sales Peaks**:\n",
       "   - Identifying specific days where sales peaked (like October 18) can help inform future promotional strategies.\n",
       "\n",
       "### Recommendations\n",
       "\n",
       "1. **Implement Promotions**:\n",
       "   - Introduce promotions or discounts on specific days that historically show lower sales to stimulate demand. Consider a \"Buy One, Get One\" offer or time-limited discounts.\n",
       "\n",
       "2. **Customer Engagement**:\n",
       "   - Collect customer feedback to understand why they purchase on specific days. Shopping patterns may indicate when customers are most receptive to offers.\n",
       "\n",
       "3. **Explore Seasonal Promotions**:\n",
       "   - Given the period preceding holidays (like Thanksgiving), consider seasonal promotions to capitalize on increased consumer spending.\n",
       "\n",
       "4. **Stock Management**:\n",
       "   - Monitor stock levels closely as sales appear stable to avoid stockouts on higher-demand days.\n",
       "\n",
       "5. **Further Data Analysis**:\n",
       "   - Delve deeper into customer demographics and purchasing behavior to tailor promotions effectively. Additionally, enhanced data visualizations and trend analysis over a more extended period can provide further insights.\n",
       "\n",
       "### Conclusion\n",
       "\n",
       "Immediate actions, particularly focusing on promotional strategies and customer engagement, are recommended to enhance sales performance further. Evaluating the customer base and identifying potential areas for growth will be crucial for the growth manager moving forward."
      ],
      "text/plain": [
       "<IPython.core.display.Markdown object>"
      ]
     },
     "execution_count": 13,
     "metadata": {},
     "output_type": "execute_result"
    }
   ],
   "source": [
    "Markdown(insight)"
   ]
  },
  {
   "cell_type": "code",
   "execution_count": 14,
   "id": "0e0e844e-5407-4260-adda-4ed9ffe108b0",
   "metadata": {},
   "outputs": [],
   "source": [
    "chart_config_prompt=\"\"\"\n",
    "Create chart configs to visualize following data \n",
    "{data}\n",
    "The visualization goal is {visualization_goal}\n",
    "\"\"\""
   ]
  },
  {
   "cell_type": "code",
   "execution_count": 15,
   "id": "62af3ed6-1d6f-4056-b694-5c5a61f50276",
   "metadata": {},
   "outputs": [],
   "source": [
    "class VisualizationConfig(BaseModel):\n",
    "    chart_type: str = Field(..., description=\"Type of chart generate\")\n",
    "    x_axis: str = Field(..., description=\"Name of the x-axis column\")\n",
    "    y_axis: str = Field(..., description=\"Name of the y-axis column\")\n",
    "    title: str = Field(..., description=\"Title of the chart\")"
   ]
  },
  {
   "cell_type": "code",
   "execution_count": 16,
   "id": "5b584267-c0e3-40d4-832b-ab13daee8fa1",
   "metadata": {},
   "outputs": [],
   "source": [
    "def extract_chart_config(visualization_goal:str, data:str):\n",
    "    \"\"\"generate config from prompt\"\"\"\n",
    "    prompt_final=chart_config_prompt.format(data=data, visualization_goal=visualization_goal)\n",
    "\n",
    "    response=client.beta.chat.completions.parse(\n",
    "        model=model,\n",
    "        messages=[\n",
    "            {\n",
    "                \"role\":\"user\",\n",
    "                \"content\":prompt_final\n",
    "            }\n",
    "        ],\n",
    "        response_format=VisualizationConfig,\n",
    "    )\n",
    "\n",
    "    try:\n",
    "        result=response.choices[0].message.content\n",
    "\n",
    "        return {\n",
    "            \"chart_type\": result.chart_type,\n",
    "            \"x_axis\": result.x_axis,\n",
    "            \"y_axis\": result.y_axis,\n",
    "            \"title\": result.title,\n",
    "            \"data\": data\n",
    "        }\n",
    "    except Exception:\n",
    "        return {\n",
    "            \"chart_type\": \"line\",\n",
    "            \"x_axis\": \"date\",\n",
    "            \"y_axis\": \"value\",\n",
    "            \"title\": visualization_goal,\n",
    "            \"data\": data\n",
    "        }"
   ]
  },
  {
   "cell_type": "code",
   "execution_count": 24,
   "id": "77f83d92-6a18-4319-9e05-e545b5c852c7",
   "metadata": {},
   "outputs": [],
   "source": [
    "create_chart_prompt=\"\"\"\n",
    "From the follow config \n",
    "{chart_config}\n",
    "\n",
    "Write python code to create a chart. Just return codes, no other text.\n",
    "\"\"\""
   ]
  },
  {
   "cell_type": "code",
   "execution_count": 25,
   "id": "a7cb0f5f-905b-4eef-91ce-e9b4ef2eb9fb",
   "metadata": {},
   "outputs": [],
   "source": [
    "def create_chart(config:str):\n",
    "    prompt_final=create_chart_prompt.format(chart_config=config)\n",
    "    response=client.chat.completions.create(\n",
    "        model=model,\n",
    "        messages=[\n",
    "            {\n",
    "                \"role\":\"user\",\n",
    "                \"content\":prompt_final\n",
    "            }\n",
    "        ],\n",
    "    )\n",
    "    result=response.choices[0].message.content\n",
    "    code=result.replace('```python','').replace('```','').strip()\n",
    "    return code"
   ]
  },
  {
   "cell_type": "code",
   "execution_count": 26,
   "id": "5a13055e-c590-4cd8-a0e7-1809ddd45acc",
   "metadata": {},
   "outputs": [],
   "source": [
    "def generate_visualization(visualization_goal, data):\n",
    "    config=extract_chart_config(visualization_goal, data)\n",
    "    code=create_chart(config)\n",
    "    return code"
   ]
  },
  {
   "cell_type": "code",
   "execution_count": 27,
   "id": "447b1126-f112-4abe-b5ec-f189fe437c85",
   "metadata": {},
   "outputs": [
    {
     "name": "stdout",
     "output_type": "stream",
     "text": [
      "    Store_Number  SKU_Coded  Product_Class_Code  Sold_Date  Qty_Sold  Total_Sale_Value  On_Promo\n",
      "0           2970    6178100               22800 2022-10-16         1          4.990000         0\n",
      "1           2970    6178100               22800 2022-10-18         6         29.940001         0\n",
      "2           2970    6178100               22800 2022-10-19         1          4.990000         0\n",
      "3           2970    6178100               22800 2022-10-20         1          4.990000         0\n",
      "4           2970    6178100               22800 2022-10-21         1          4.990000         0\n",
      "5           2970    6178100               22800 2022-10-22         4         19.959999         0\n",
      "6           2970    6178100               22800 2022-10-23         1          4.990000         0\n",
      "7           2970    6178100               22800 2022-10-24         2          9.980000         0\n",
      "8           2970    6178100               22800 2022-10-25         1          4.990000         0\n",
      "9           2970    6178100               22800 2022-10-26         1          4.990000         0\n",
      "10          2970    6178100               22800 2022-11-03         1          4.990000         0\n",
      "11          2970    6178100               22800 2022-11-05         2          9.980000         0\n",
      "12          2970    6178100               22800 2022-11-08         3         14.970000         0\n",
      "13          2970    6178100               22800 2022-11-09         1          4.990000         0\n",
      "14          2970    6178100               22800 2022-11-12         2          9.980000         0\n",
      "15          2970    6178100               22800 2022-11-14         2          9.980000         0\n",
      "16          2970    6178100               22800 2022-11-16         1          4.990000         0\n",
      "17          2970    6178100               22800 2022-11-19         1          4.990000         0\n",
      "18          2970    6178100               22800 2022-11-20         1          4.990000         0\n",
      "19          2970    6178100               22800 2022-11-21         1          4.990000         0\n"
     ]
    }
   ],
   "source": [
    "smp_data=sale_lookup('Show me 20 sales of the store with highest number')\n",
    "print(smp_data)"
   ]
  },
  {
   "cell_type": "code",
   "execution_count": 28,
   "id": "f0b4aebd-bcfa-400a-883a-6b96b3351057",
   "metadata": {},
   "outputs": [],
   "source": [
    "chart_code=generate_visualization('a chart of sale by product SKU. Put the product SKU on x axis and sum of sale on the y axis', smp_data)"
   ]
  },
  {
   "cell_type": "code",
   "execution_count": 29,
   "id": "810998e0-a8be-4228-9136-e048f8aad1f2",
   "metadata": {},
   "outputs": [
    {
     "name": "stdout",
     "output_type": "stream",
     "text": [
      "import pandas as pd\n",
      "import matplotlib.pyplot as plt\n",
      "\n",
      "# Data preparation\n",
      "data = {\n",
      "    'Store_Number': [2970]*20,\n",
      "    'SKU_Coded': [6178100]*20,\n",
      "    'Product_Class_Code': [22800]*20,\n",
      "    'Sold_Date': ['2022-10-16', '2022-10-18', '2022-10-19', '2022-10-20', \n",
      "                  '2022-10-21', '2022-10-22', '2022-10-23', '2022-10-24', \n",
      "                  '2022-10-25', '2022-10-26', '2022-11-03', '2022-11-05', \n",
      "                  '2022-11-08', '2022-11-09', '2022-11-12', '2022-11-14', \n",
      "                  '2022-11-16', '2022-11-19', '2022-11-20', '2022-11-21'],\n",
      "    'Qty_Sold': [1, 6, 1, 1, 1, 4, 1, 2, 1, 1, 1, 2, 3, 1, 2, 2, 1, 1, 1, 1],\n",
      "    'Total_Sale_Value': [4.99, 29.94, 4.99, 4.99, 4.99, 19.96, 4.99, 9.98, \n",
      "                         4.99, 4.99, 4.99, 9.98, 14.97, 4.99, 9.98, 9.98, \n",
      "                         4.99, 4.99, 4.99, 4.99],\n",
      "    'On_Promo': [0]*20\n",
      "}\n",
      "\n",
      "df = pd.DataFrame(data)\n",
      "df['Sold_Date'] = pd.to_datetime(df['Sold_Date'])\n",
      "df_grouped = df.groupby('Sold_Date', as_index=False).agg({'Total_Sale_Value': 'sum'})\n",
      "\n",
      "# Plotting\n",
      "plt.figure(figsize=(10, 5))\n",
      "plt.plot(df_grouped['Sold_Date'], df_grouped['Total_Sale_Value'], marker='o')\n",
      "plt.title('A chart of sale by product SKU')\n",
      "plt.xlabel('Date')\n",
      "plt.ylabel('Sum of Sale')\n",
      "plt.xticks(rotation=45)\n",
      "plt.grid()\n",
      "plt.tight_layout()\n",
      "plt.show()\n"
     ]
    }
   ],
   "source": [
    "print(chart_code)"
   ]
  },
  {
   "cell_type": "code",
   "execution_count": 30,
   "id": "7c3734c2-afa7-4bfb-906c-4b28655334ab",
   "metadata": {},
   "outputs": [
    {
     "data": {
      "image/png": "[encoded data removed]",
      "text/plain": [
       "<Figure size 1000x500 with 1 Axes>"
      ]
     },
     "metadata": {},
     "output_type": "display_data"
    }
   ],
   "source": [
    "exec(chart_code)"
   ]
  },
  {
   "cell_type": "code",
   "execution_count": null,
   "id": "270869f9-e6d9-4e9b-ad55-73ec11a9f7d1",
   "metadata": {},
   "outputs": [],
   "source": []
  }
 ],
 "metadata": {
  "kernelspec": {
   "display_name": "agent",
   "language": "python",
   "name": "agent"
  },
  "language_info": {
   "codemirror_mode": {
    "name": "ipython",
    "version": 3
   },
   "file_extension": ".py",
   "mimetype": "text/x-python",
   "name": "python",
   "nbconvert_exporter": "python",
   "pygments_lexer": "ipython3",
   "version": "3.10.12"
  }
 },
 "nbformat": 4,
 "nbformat_minor": 5
}
