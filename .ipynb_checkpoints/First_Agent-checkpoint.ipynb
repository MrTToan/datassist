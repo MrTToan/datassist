{
 "cells": [
  {
   "cell_type": "code",
   "execution_count": 1,
   "id": "8d0e3f71-b233-4086-ba6d-a426b27a3d0b",
   "metadata": {},
   "outputs": [],
   "source": [
    "from openai import OpenAI\n",
    "import pandas as pd \n",
    "import json\n",
    "import duckdb\n",
    "from pydantic import BaseModel, Field\n",
    "from IPython.display import Markdown\n",
    "import seaborn as sns"
   ]
  },
  {
   "cell_type": "code",
   "execution_count": 2,
   "id": "10689d77-b118-42a7-bc07-2e9f98dc1fc2",
   "metadata": {},
   "outputs": [],
   "source": [
    "from dotenv import load_dotenv\n",
    "import os\n",
    "load_dotenv()\n",
    "api_key = os.getenv(\"OPEN_API_KEY\")\n",
    "client=OpenAI(api_key=api_key)\n",
    "\n",
    "model='gpt-4o-mini'"
   ]
  },
  {
   "cell_type": "code",
   "execution_count": 3,
   "id": "445cc833-e98d-48a7-a77b-17d1db87cea0",
   "metadata": {},
   "outputs": [],
   "source": [
    "transaction_path='/home/toan999/coding/Agent/Store_Sales_Price_Elasticity_Promotions_Data.parquet'"
   ]
  },
  {
   "cell_type": "code",
   "execution_count": 4,
   "id": "fb04e281-8cd3-44e6-94dc-6b9c1441e153",
   "metadata": {},
   "outputs": [],
   "source": [
    "SQL_GENERATE_PROMPT=\"\"\"\n",
    "Generate a SQL to access duckdb based on the prompt. Do not reply anything beside the query. \n",
    "The prompt is {prompt}.\n",
    "\n",
    "The table name is {table_name}.\n",
    "The available columns are {column}.\n",
    "\"\"\""
   ]
  },
  {
   "cell_type": "code",
   "execution_count": 5,
   "id": "962250cd-cf32-4092-9bf7-0530e88a576f",
   "metadata": {},
   "outputs": [],
   "source": [
    "def generate_sql_query(prompt: str, column: list, table_name: str) ->str:\n",
    "    \"\"\"Generate a SQL query based on the prompt\"\"\"\n",
    "    formatted_prompt=SQL_GENERATE_PROMPT.format(prompt=prompt, column=column, table_name=table_name)\n",
    "    completion = client.chat.completions.create(\n",
    "        model=model,\n",
    "        messages=[\n",
    "            {\n",
    "                \"role\": \"user\",\n",
    "                \"content\": formatted_prompt\n",
    "            }\n",
    "        ]\n",
    "    )\n",
    "    return completion.choices[0].message.content"
   ]
  },
  {
   "cell_type": "code",
   "execution_count": 6,
   "id": "ef03d510-0775-4a23-be94-efd185b6254a",
   "metadata": {},
   "outputs": [],
   "source": [
    "\n",
    "def sale_lookup(prompt):\n",
    "    try:\n",
    "        # db creation\n",
    "        df = pd.read_parquet(transaction_path)\n",
    "        table_name='sales'\n",
    "        duckdb.sql(f\"CREATE TABLE IF NOT EXISTS {table_name} AS SELECT * from df\")\n",
    "        \n",
    "        # query generation\n",
    "        sql_generated=generate_sql_query(prompt, df.columns,table_name)\n",
    "        sql_final=sql_generated.replace('```sql', '').replace('```','').strip()\n",
    "        \n",
    "        # query execution\n",
    "        result=duckdb.sql(sql_final).df()\n",
    "        \n",
    "        return result.to_string()\n",
    "    except Exception as e:\n",
    "        return f\"Error accessing data {str(e)}\""
   ]
  },
  {
   "cell_type": "code",
   "execution_count": 7,
   "id": "a4e03659-2d3c-44ef-abb3-9f458202a36a",
   "metadata": {},
   "outputs": [
    {
     "data": {
      "text/plain": [
       "'    Store_Number  SKU_Coded  Product_Class_Code  Sold_Date  Qty_Sold  Total_Sale_Value  On_Promo\\n0           2970    6172800               22875 2021-11-21         2         37.900002         0\\n1           2970    6172800               22875 2022-04-29         1         18.950001         0\\n2           2970    6172800               22875 2022-07-20         1         18.950001         0\\n3           2970    6172800               22875 2022-08-27         1         18.950001         0\\n4           2970    6172800               22875 2022-12-17         1         18.950001         0\\n5           2970    6172800               22875 2023-02-02         1         18.950001         0\\n6           2970    6172800               22875 2023-03-22         4         75.800003         0\\n7           2970    6172800               22875 2023-04-29         3         56.849998         0\\n8           2970    6172800               22875 2023-05-07         1         18.950001         0\\n9           2970    6172800               22875 2023-08-29         3         56.849998         0\\n10          2970    6172800               22875 2023-09-30         1         18.950001         0\\n11          2970    6172800               22875 2023-12-08         1         18.950001         0\\n12          2970    6172800               22875 2023-12-14         1         18.950001         0\\n13          2970    6172800               22875 2024-02-10         1         19.990000         0\\n14          2970    6172800               22875 2024-03-14         1         19.990000         0\\n15          2970    6172850               22875 2021-11-17         1         19.990000         0\\n16          2970    6172850               22875 2022-01-07         3         59.970001         0\\n17          2970    6172850               22875 2022-06-05         1         19.990000         0\\n18          2970    6172850               22875 2022-06-12         2         39.980000         0\\n19          2970    6172850               22875 2022-10-07         1         19.990000         0'"
      ]
     },
     "execution_count": 7,
     "metadata": {},
     "output_type": "execute_result"
    }
   ],
   "source": [
    "exam_data=sale_lookup('Show me 20 sales of the store with highest number')\n",
    "exam_data"
   ]
  },
  {
   "cell_type": "code",
   "execution_count": 8,
   "id": "79802fb0-f9da-41b1-a68c-6b8ad7c0f7f7",
   "metadata": {},
   "outputs": [],
   "source": [
    "analysis_prompt=\"\"\"\n",
    "Based on provided data {data}, help to answer the needs from {prompt}.\n",
    "\n",
    "Let make analysis to recommend for the growth manager to take immediate action\n",
    "\"\"\""
   ]
  },
  {
   "cell_type": "code",
   "execution_count": 9,
   "id": "d353b08f-bf65-4035-a817-109a2cd044be",
   "metadata": {},
   "outputs": [],
   "source": [
    "def sale_analysis(prompt: str, data: str):\n",
    "    \"\"\"Generate data analysis prompt\"\"\"\n",
    "    prompt_final=analysis_prompt.format(data=data, prompt=prompt)\n",
    "    completion=client.chat.completions.create(\n",
    "        model=model,\n",
    "        messages=[\n",
    "            {\n",
    "                \"role\":\"user\",\n",
    "                \"content\":prompt_final\n",
    "            }\n",
    "        ]\n",
    "    )\n",
    "    analysis=completion.choices[0].message.content\n",
    "    return analysis if analysis else \"No info here\""
   ]
  },
  {
   "cell_type": "code",
   "execution_count": 10,
   "id": "8d17ead2-35a3-4c2b-a570-88ddb57d407c",
   "metadata": {
    "scrolled": true
   },
   "outputs": [],
   "source": [
    "insight=sale_analysis('what is its performance?', exam_data)"
   ]
  },
  {
   "cell_type": "code",
   "execution_count": 11,
   "id": "b2a6f434-3af1-4203-90ed-e3b03a8363ba",
   "metadata": {
    "scrolled": true
   },
   "outputs": [
    {
     "data": {
      "text/markdown": [
       "To analyze the sales performance of the data provided and recommend actions for the growth manager, we can break down the evaluation into several categories, such as total sales performance, trend analysis, and promotional effectiveness. Here's an analysis along with some recommendations:\n",
       "\n",
       "### 1. **Total Sales Performance**\n",
       "First, let's summarize the total sales for each SKU.\n",
       "\n",
       "For SKU `6172800`:\n",
       "- **Total Units Sold**: 20\n",
       "- **Total Sales Value**: $378.90\n",
       "\n",
       "For SKU `6172850`:\n",
       "- **Total Units Sold**: 7\n",
       "- **Total Sales Value**: $139.94\n",
       "\n",
       "### 2. **Trend Analysis**\n",
       "#### SKU 6172800 \n",
       "- Sales are relatively stable but show slight fluctuations. \n",
       "- Notable peaks in sales occur on 2023-03-22 (4 units) and 2023-04-29 (3 units), which might indicate potential seasonal demand.\n",
       "- Consistently sold at a price point of ~$18.95 with a slight increase in some months.\n",
       "\n",
       "#### SKU 6172850\n",
       "- Sales show variability:\n",
       "  - Highest sales were on 2022-01-07 with 3 units sold.\n",
       "  - The product is not moving as consistently as SKU 6172800.\n",
       "  \n",
       "### 3. **Promotional Effectiveness**\n",
       "- It appears that none of the sales in the provided dataset are marked as being \"On Promotion\" (0 in the On_Promo column). This suggests that there might be opportunities to enhance sales through promotions.\n",
       "\n",
       "### 4. **Recommendations**\n",
       "#### a. **Promotional Strategy**\n",
       "- **Initiate Promotions**: Since sales performance seems to be lacking for SKU 6172850, consider initiating promotional campaigns (discounts, bundle offers, etc.) to boost sales.\n",
       "- **Seasonal Promotions**: Utilize insights from peak sales months to design promotions aligned with these periods (e.g., offering discounts during spring/summer).\n",
       "\n",
       "#### b. **Stock Management**\n",
       "- **Increase Stock for High-Demand Periods**: Improve stock levels of SKU 6172800 during identified peak months (March and April) to ensure availability and capture demand.\n",
       "\n",
       "#### c. **Product Bundling**\n",
       "- **Bundle SKU 6172800 with 6172850**: Offer a discount if both products are purchased together, which can help improve the sales of the slower-moving SKU while capitalizing on the popularity of the best-seller.\n",
       "\n",
       "#### d. **Customer Feedback and Market Research**\n",
       "- **Gather Customer Insights**: Consider conducting customer surveys to understand preferences for these products. This will guide adjustments in marketing and product offerings.\n",
       "  \n",
       "#### e. **Refine Pricing Strategies**\n",
       "- **Competitive Analysis**: Review competitors’ pricing and consider strategic pricing adjustments for SKU 6172850 to improve its sell-through rate.\n",
       "\n",
       "#### f. **Sales Channel Expansion**\n",
       "- **Explore New Sales Channels**: Evaluate other sales channels for these products, such as online platforms, to capture a broader customer base.\n",
       "\n",
       "### Conclusion\n",
       "By implementing these recommendations, the growth manager may foster an environment conducive to increased sales and sustained growth for both SKUs. Regularly monitoring performance post-implementation will be key to ensuring these strategies are effective."
      ],
      "text/plain": [
       "<IPython.core.display.Markdown object>"
      ]
     },
     "execution_count": 11,
     "metadata": {},
     "output_type": "execute_result"
    }
   ],
   "source": [
    "Markdown(insight)"
   ]
  },
  {
   "cell_type": "code",
   "execution_count": 12,
   "id": "0e0e844e-5407-4260-adda-4ed9ffe108b0",
   "metadata": {},
   "outputs": [],
   "source": [
    "chart_config_prompt=\"\"\"\n",
    "Create chart configs to visualize following data \n",
    "{data}\n",
    "The visualization goal is {visualization_goal}\n",
    "\"\"\""
   ]
  },
  {
   "cell_type": "code",
   "execution_count": 13,
   "id": "62af3ed6-1d6f-4056-b694-5c5a61f50276",
   "metadata": {},
   "outputs": [],
   "source": [
    "class VisualizationConfig(BaseModel):\n",
    "    chart_type: str = Field(..., description=\"Type of chart generate\")\n",
    "    x_axis: str = Field(..., description=\"Name of the x-axis column\")\n",
    "    y_axis: str = Field(..., description=\"Name of the y-axis column\")\n",
    "    title: str = Field(..., description=\"Title of the chart\")"
   ]
  },
  {
   "cell_type": "code",
   "execution_count": 14,
   "id": "5b584267-c0e3-40d4-832b-ab13daee8fa1",
   "metadata": {},
   "outputs": [],
   "source": [
    "def extract_chart_config(visualization_goal:str, data:str):\n",
    "    \"\"\"generate config from prompt\"\"\"\n",
    "    prompt_final=chart_config_prompt.format(data=data, visualization_goal=visualization_goal)\n",
    "\n",
    "    response=client.beta.chat.completions.parse(\n",
    "        model=model,\n",
    "        messages=[\n",
    "            {\n",
    "                \"role\":\"user\",\n",
    "                \"content\":prompt_final\n",
    "            }\n",
    "        ],\n",
    "        response_format=VisualizationConfig,\n",
    "    )\n",
    "\n",
    "    try:\n",
    "        result=response.choices[0].message.content\n",
    "\n",
    "        return {\n",
    "            \"chart_type\": result.chart_type,\n",
    "            \"x_axis\": result.x_axis,\n",
    "            \"y_axis\": result.y_axis,\n",
    "            \"title\": result.title,\n",
    "            \"data\": data\n",
    "        }\n",
    "    except Exception:\n",
    "        return {\n",
    "            \"chart_type\": \"line\",\n",
    "            \"x_axis\": \"date\",\n",
    "            \"y_axis\": \"value\",\n",
    "            \"title\": visualization_goal,\n",
    "            \"data\": data\n",
    "        }"
   ]
  },
  {
   "cell_type": "code",
   "execution_count": 15,
   "id": "77f83d92-6a18-4319-9e05-e545b5c852c7",
   "metadata": {},
   "outputs": [],
   "source": [
    "create_chart_prompt=\"\"\"\n",
    "From the follow config \n",
    "{chart_config}\n",
    "\n",
    "Write executable python code to create a chart. Just return codes, no other text.\n",
    "\"\"\""
   ]
  },
  {
   "cell_type": "code",
   "execution_count": 16,
   "id": "a7cb0f5f-905b-4eef-91ce-e9b4ef2eb9fb",
   "metadata": {},
   "outputs": [],
   "source": [
    "def create_chart(config:str):\n",
    "    prompt_final=create_chart_prompt.format(chart_config=config)\n",
    "    response=client.chat.completions.create(\n",
    "        model=model,\n",
    "        messages=[\n",
    "            {\n",
    "                \"role\":\"user\",\n",
    "                \"content\":prompt_final\n",
    "            }\n",
    "        ],\n",
    "    )\n",
    "    result=response.choices[0].message.content\n",
    "    code=result.replace('```python','').replace('```','').strip()\n",
    "    return code"
   ]
  },
  {
   "cell_type": "code",
   "execution_count": 17,
   "id": "5a13055e-c590-4cd8-a0e7-1809ddd45acc",
   "metadata": {},
   "outputs": [],
   "source": [
    "def generate_visualization(visualization_goal, data):\n",
    "    config=extract_chart_config(visualization_goal, data)\n",
    "    code=create_chart(config)\n",
    "    return code"
   ]
  },
  {
   "cell_type": "code",
   "execution_count": 18,
   "id": "447b1126-f112-4abe-b5ec-f189fe437c85",
   "metadata": {},
   "outputs": [
    {
     "name": "stdout",
     "output_type": "stream",
     "text": [
      "    Store_Number  SKU_Coded  Product_Class_Code  Sold_Date  Qty_Sold  Total_Sale_Value  On_Promo\n",
      "0           2970    6178100               22800 2022-10-16         1          4.990000         0\n",
      "1           2970    6178100               22800 2022-10-18         6         29.940001         0\n",
      "2           2970    6178100               22800 2022-10-19         1          4.990000         0\n",
      "3           2970    6178100               22800 2022-10-20         1          4.990000         0\n",
      "4           2970    6178100               22800 2022-10-21         1          4.990000         0\n",
      "5           2970    6178100               22800 2022-10-22         4         19.959999         0\n",
      "6           2970    6178100               22800 2022-10-23         1          4.990000         0\n",
      "7           2970    6178100               22800 2022-10-24         2          9.980000         0\n",
      "8           2970    6178100               22800 2022-10-25         1          4.990000         0\n",
      "9           2970    6178100               22800 2022-10-26         1          4.990000         0\n",
      "10          2970    6178100               22800 2022-11-03         1          4.990000         0\n",
      "11          2970    6178100               22800 2022-11-05         2          9.980000         0\n",
      "12          2970    6178100               22800 2022-11-08         3         14.970000         0\n",
      "13          2970    6178100               22800 2022-11-09         1          4.990000         0\n",
      "14          2970    6178100               22800 2022-11-12         2          9.980000         0\n",
      "15          2970    6178100               22800 2022-11-14         2          9.980000         0\n",
      "16          2970    6178100               22800 2022-11-16         1          4.990000         0\n",
      "17          2970    6178100               22800 2022-11-19         1          4.990000         0\n",
      "18          2970    6178100               22800 2022-11-20         1          4.990000         0\n",
      "19          2970    6178100               22800 2022-11-21         1          4.990000         0\n"
     ]
    }
   ],
   "source": [
    "smp_data=sale_lookup('Show me 20 sales of the store with highest number')\n",
    "print(smp_data)"
   ]
  },
  {
   "cell_type": "code",
   "execution_count": 19,
   "id": "f0b4aebd-bcfa-400a-883a-6b96b3351057",
   "metadata": {},
   "outputs": [],
   "source": [
    "chart_code=generate_visualization('a chart of sale by product SKU. Put the product SKU on x axis and sum of sale on the y axis', smp_data)"
   ]
  },
  {
   "cell_type": "code",
   "execution_count": 20,
   "id": "810998e0-a8be-4228-9136-e048f8aad1f2",
   "metadata": {},
   "outputs": [
    {
     "name": "stdout",
     "output_type": "stream",
     "text": [
      "import pandas as pd\n",
      "import matplotlib.pyplot as plt\n",
      "\n",
      "# Data setup\n",
      "data = {\n",
      "    'Store_Number': [2970]*20,\n",
      "    'SKU_Coded': [6178100]*20,\n",
      "    'Product_Class_Code': [22800]*20,\n",
      "    'Sold_Date': [\n",
      "        '2022-10-16', '2022-10-18', '2022-10-19', '2022-10-20', '2022-10-21', \n",
      "        '2022-10-22', '2022-10-23', '2022-10-24', '2022-10-25', '2022-10-26', \n",
      "        '2022-11-03', '2022-11-05', '2022-11-08', '2022-11-09', '2022-11-12', \n",
      "        '2022-11-14', '2022-11-16', '2022-11-19', '2022-11-20', '2022-11-21'\n",
      "    ],\n",
      "    'Qty_Sold': [1, 6, 1, 1, 1, 4, 1, 2, 1, 1, 1, 2, 3, 1, 2, 2, 1, 1, 1, 1],\n",
      "    'Total_Sale_Value': [\n",
      "        4.99, 29.94, 4.99, 4.99, 4.99, 19.96, 4.99, 9.98, 4.99, 4.99,\n",
      "        4.99, 9.98, 14.97, 4.99, 9.98, 9.98, 4.99, 4.99, 4.99, 4.99\n",
      "    ],\n",
      "    'On_Promo': [0]*20\n",
      "}\n",
      "\n",
      "# Create DataFrame\n",
      "df = pd.DataFrame(data)\n",
      "\n",
      "# Convert 'Sold_Date' to datetime\n",
      "df['Sold_Date'] = pd.to_datetime(df['Sold_Date'])\n",
      "\n",
      "# Group by 'Sold_Date' and sum 'Total_Sale_Value'\n",
      "grouped_data = df.groupby('Sold_Date')['Total_Sale_Value'].sum().reset_index()\n",
      "\n",
      "# Plotting\n",
      "plt.figure(figsize=(12, 6))\n",
      "plt.plot(grouped_data['Sold_Date'], grouped_data['Total_Sale_Value'], marker='o')\n",
      "plt.title('A Chart of Sale by Product SKU')\n",
      "plt.xlabel('Date')\n",
      "plt.ylabel('Sum of Sale Value')\n",
      "plt.xticks(rotation=45)\n",
      "plt.grid()\n",
      "plt.tight_layout()\n",
      "plt.show()\n"
     ]
    }
   ],
   "source": [
    "print(chart_code)"
   ]
  },
  {
   "cell_type": "code",
   "execution_count": 21,
   "id": "7c3734c2-afa7-4bfb-906c-4b28655334ab",
   "metadata": {},
   "outputs": [
    {
     "data": {
      "image/png": "[encoded data removed]",
      "text/plain": [
       "<Figure size 1200x600 with 1 Axes>"
      ]
     },
     "metadata": {},
     "output_type": "display_data"
    }
   ],
   "source": [
    "exec(chart_code)"
   ]
  },
  {
   "cell_type": "code",
   "execution_count": 24,
   "id": "a85b0b01-f458-41e4-986c-9c3053388e50",
   "metadata": {},
   "outputs": [],
   "source": [
    "tools = [{\n",
    "    \"type\": \"function\",\n",
    "    \"function\": {\n",
    "        \"name\": \"sale_lookup\",\n",
    "        \"description\": \"Look up data from Store Sales Price Elasticity Promotions dataset\",\n",
    "        \"parameters\": {\n",
    "            \"type\": \"object\",\n",
    "            \"properties\": {\n",
    "                \"prompt\": {\n",
    "                    \"type\": \"string\",\n",
    "                    \"description\": \"The unchanged prompt users provided\"\n",
    "                }\n",
    "            },\n",
    "            \"required\": [\"prompt\"]\n",
    "        }\n",
    "    }\n",
    "},\n",
    "    {\n",
    "    \"type\": \"function\",\n",
    "    \"function\": {\n",
    "        \"name\": \"sale_analysis\",\n",
    "        \"description\": \"Analyze sales data to extract insights\",\n",
    "        \"parameters\": {\n",
    "            \"type\": \"object\",\n",
    "            \"properties\": {\n",
    "                \"data\": {\"type\": \"string\", \"description\": \"The output from sale_lookup tool\"},\n",
    "                \"prompt\":{\"type\":\"string\", \"description\": \"The unchanged prompt users provided\"}\n",
    "            },\n",
    "            \"required\": [\"data\", \"prompt\"]\n",
    "        }\n",
    "    }\n",
    "    },\n",
    "    {\n",
    "    \"type\": \"function\",\n",
    "    \"function\": {\n",
    "        \"name\": \"generate_visualization\",\n",
    "        \"description\": \"Generate Python code to create data visualizations\",\n",
    "        \"parameters\": {\n",
    "            \"type\": \"object\",\n",
    "            \"properties\": {\n",
    "                \"data\": {\"type\": \"string\", \"description\": \"The output from sale_lookup tool\"},\n",
    "                \"visualization_goal\":{\"type\":\"string\", \"description\": \"The goal of visualization\"}\n",
    "            },\n",
    "            \"required\": [\"prompt\", \"visualization_goal\"]\n",
    "        }\n",
    "    }\n",
    "}]"
   ]
  },
  {
   "cell_type": "code",
   "execution_count": 26,
   "id": "f77a4cb2-e304-4a20-8ef1-dd9851385cb4",
   "metadata": {},
   "outputs": [],
   "source": [
    "tool_implementation={\n",
    "    \"sale_lookup\": sale_lookup,\n",
    "    \"sale_analysis\": sale_analysis,\n",
    "    \"generate_visualization\": generate_visualization\n",
    "}"
   ]
  },
  {
   "cell_type": "code",
   "execution_count": 57,
   "id": "6c845273-2c18-40f4-a4ee-fb89e7d7c917",
   "metadata": {},
   "outputs": [],
   "source": [
    "SYSTEM_PROMPT=\"You are a helpfull assistant to help users understand insights from this dataset\""
   ]
  },
  {
   "cell_type": "code",
   "execution_count": 67,
   "id": "0a36088f-2040-4fdf-a6b6-7adb73594ca9",
   "metadata": {},
   "outputs": [],
   "source": [
    "def handle_tool_calls(tool_calls, message):\n",
    "    for tool in tool_calls:\n",
    "        function=tool_implementation[tool.function.name]\n",
    "        args=json.loads(tool.function.arguments)\n",
    "        result=function(**args)\n",
    "        message.append({\"role\":\"tool\", \"content\":result, \"tool_call_id\": tool.id})\n",
    "        return message"
   ]
  },
  {
   "cell_type": "code",
   "execution_count": 93,
   "id": "c317fafb-645d-4253-83a1-2f9aaecb44dd",
   "metadata": {},
   "outputs": [],
   "source": [
    "def run_agent(messages):\n",
    "    print(f\"Running agent with messages:{messages}\")\n",
    "\n",
    "    if isinstance(messages, str):\n",
    "        messages = [{\"role\": \"user\", \"content\": messages}]\n",
    "        \n",
    "    # Check and add system prompt if needed\n",
    "    if not any(\n",
    "            isinstance(message, dict) and message.get(\"role\") == \"system\" for message in messages\n",
    "        ):\n",
    "            system_prompt = {\"role\": \"system\", \"content\": SYSTEM_PROMPT}\n",
    "            messages.append(system_prompt)\n",
    "\n",
    "\n",
    "    while True:\n",
    "        print(\"Making router call to OpenAI\")\n",
    "        response=client.chat.completions.create(\n",
    "            model=model,\n",
    "            messages=messages,\n",
    "            tools=tools,\n",
    "        )\n",
    "\n",
    "        messages.append(response.choices[0].message)\n",
    "        tool_calls=response.choices[0].message.tool_calls\n",
    "        try:\n",
    "            print(f\"Received response with tool calls: {tool_calls[0].function.name} and {tool_calls[0].id}\")\n",
    "        except (AttributeError, IndexError, TypeError):\n",
    "            print(\"Received response with tool calls: none\")\n",
    "\n",
    "        if tool_calls:\n",
    "            print(\"Processing tool calls\")\n",
    "            messages=handle_tool_calls(tool_calls, messages)\n",
    "\n",
    "        else:\n",
    "            print(\"No tool calls, returning final response\")\n",
    "            return response.choices[0].message.content"
   ]
  },
  {
   "cell_type": "code",
   "execution_count": 96,
   "id": "603c20e4-574d-4fc6-b640-35f61dab502c",
   "metadata": {},
   "outputs": [
    {
     "name": "stdout",
     "output_type": "stream",
     "text": [
      "Running agent with messages:Show me the code for graph of sales by store in Nov 2021, and tell me what trends you see.\n",
      "Making router call to OpenAI\n",
      "Received response with tool calls: sale_lookup and call_KAZnDzOFgC4ZRQsIkYIBlsWA\n",
      "Processing tool calls\n",
      "Making router call to OpenAI\n",
      "Received response with tool calls: sale_analysis and call_Nzn92AAnrNB8z1YbKsdySjok\n",
      "Processing tool calls\n",
      "Making router call to OpenAI\n",
      "Received response with tool calls: generate_visualization and call_xhoAmhjWUgN6E6Mr2WRNCdiv\n",
      "Processing tool calls\n",
      "Making router call to OpenAI\n",
      "Received response with tool calls: none\n",
      "No tool calls, returning final response\n"
     ]
    }
   ],
   "source": [
    "result = run_agent('Show me the code for graph of sales by store in Nov 2021, and tell me what trends you see.')"
   ]
  },
  {
   "cell_type": "code",
   "execution_count": 98,
   "id": "d8b1bd24-9322-4c8f-bcbd-b34fa1de831e",
   "metadata": {},
   "outputs": [
    {
     "data": {
      "text/markdown": [
       "Here's the code to create a bar graph showing sales by store for November 2021:\n",
       "\n",
       "```python\n",
       "import pandas as pd\n",
       "import matplotlib.pyplot as plt\n",
       "\n",
       "# Data input\n",
       "data = {\n",
       "    'Store_Number': [3080, 4840, 2090, 4070, 2640, 1320, 1540, 4730, \n",
       "                     990, 880, 1650, 4180, 550, 2310, 2200, 1870, \n",
       "                     3630, 1980, 2750, 330, 1210, 1760, 1100, \n",
       "                     3190, 3300, 3740, 660, 770, 3410, 2970, \n",
       "                     2530, 4400, 2420],\n",
       "    'Total_Qty_Sold': [1454.0, 1612.0, 1080.0, 932.0, 1005.0, \n",
       "                       1701.0, 1801.0, 819.0, 1280.0, 1525.0, \n",
       "                       1770.0, 913.0, 764.0, 1594.0, 1513.0, \n",
       "                       1648.0, 1311.0, 893.0, 1462.0, 1105.0, \n",
       "                       1821.0, 1207.0, 1712.0, 1003.0, 1859.0, \n",
       "                       949.0, 1208.0, 973.0, 1345.0, 2312.0, \n",
       "                       890.0, 225.0, 1370.0],\n",
       "    'Total_Sales_Value': [18044.450005, 19127.169971, 11617.179888, \n",
       "                          9161.409921, 10891.639931, 19553.789981, \n",
       "                          21207.689942, 10571.779962, 15101.459945, \n",
       "                          17753.769956, 23186.909958, 10213.819920, \n",
       "                          9554.049975, 16611.539945, 16854.439921, \n",
       "                          17091.849894, 14202.299958, 9084.959929, \n",
       "                          16310.409961, 12569.599911, 21021.669984, \n",
       "                          14598.209948, 19298.679917, 11934.999961, \n",
       "                          23730.719905, 10719.049952, 13041.239901, \n",
       "                          9181.769959, 15982.159946, 31000.569969, \n",
       "                          11139.740003, 4390.689987, 15234.709888]\n",
       "}\n",
       "\n",
       "# Transform data into DataFrame\n",
       "df = pd.DataFrame(data)\n",
       "\n",
       "# Create the bar chart\n",
       "plt.figure(figsize=(12, 6))\n",
       "plt.bar(df['Store_Number'].astype(str), df['Total_Sales_Value'], color='skyblue')\n",
       "plt.xlabel('Store Number')\n",
       "plt.ylabel('Total Sales Value')\n",
       "plt.title('Sales by Store for November 2021')\n",
       "plt.xticks(rotation=90)\n",
       "plt.tight_layout()\n",
       "plt.show()\n",
       "```\n",
       "\n",
       "### Trends Observed from the Sales Data:\n",
       "\n",
       "1. **High Performers:**\n",
       "   - Stores such as 1320, 1540, and 3300 stand out with both high sales volume and revenue.\n",
       "   - The highest sales value was recorded at Store 2970, indicating effective sales strategies or popular product offerings.\n",
       "\n",
       "2. **Low Performers:**\n",
       "   - Store 4400 had the lowest sales value, suggesting a need to improve performance.\n",
       "   - Comparison of sales volumes shows that some stores sold more units but generated less revenue, indicating possible pricing issues.\n",
       "\n",
       "3. **Correlation Insights:**\n",
       "   - A mix of average quantities sold with varying revenue levels highlights the importance of analyzing pricing and product selection to optimize sales.\n",
       "\n",
       "4. **Potential Actions:**\n",
       "   - Investigating high-performing stores for successful strategies could inform improvements in lower-performing locations.\n",
       "   - Targeted marketing and promotional activities could help boost sales in stores with lower revenue, like Store 4400 and Store 4070.\n",
       "\n",
       "The analysis of these sales trends can help guide strategic planning for the coming months to enhance overall performance across all stores."
      ],
      "text/plain": [
       "<IPython.core.display.Markdown object>"
      ]
     },
     "execution_count": 98,
     "metadata": {},
     "output_type": "execute_result"
    }
   ],
   "source": [
    "Markdown(result)"
   ]
  },
  {
   "cell_type": "code",
   "execution_count": 99,
   "id": "1d6cc7df-27b1-49f0-b479-79b359b7e17b",
   "metadata": {},
   "outputs": [
    {
     "data": {
      "image/png": "[encoded data removed]",
      "text/plain": [
       "<Figure size 1200x600 with 1 Axes>"
      ]
     },
     "metadata": {},
     "output_type": "display_data"
    }
   ],
   "source": [
    "import pandas as pd\n",
    "import matplotlib.pyplot as plt\n",
    "\n",
    "# Data input\n",
    "data = {\n",
    "    'Store_Number': [3080, 4840, 2090, 4070, 2640, 1320, 1540, 4730, \n",
    "                     990, 880, 1650, 4180, 550, 2310, 2200, 1870, \n",
    "                     3630, 1980, 2750, 330, 1210, 1760, 1100, \n",
    "                     3190, 3300, 3740, 660, 770, 3410, 2970, \n",
    "                     2530, 4400, 2420],\n",
    "    'Total_Qty_Sold': [1454.0, 1612.0, 1080.0, 932.0, 1005.0, \n",
    "                       1701.0, 1801.0, 819.0, 1280.0, 1525.0, \n",
    "                       1770.0, 913.0, 764.0, 1594.0, 1513.0, \n",
    "                       1648.0, 1311.0, 893.0, 1462.0, 1105.0, \n",
    "                       1821.0, 1207.0, 1712.0, 1003.0, 1859.0, \n",
    "                       949.0, 1208.0, 973.0, 1345.0, 2312.0, \n",
    "                       890.0, 225.0, 1370.0],\n",
    "    'Total_Sales_Value': [18044.450005, 19127.169971, 11617.179888, \n",
    "                          9161.409921, 10891.639931, 19553.789981, \n",
    "                          21207.689942, 10571.779962, 15101.459945, \n",
    "                          17753.769956, 23186.909958, 10213.819920, \n",
    "                          9554.049975, 16611.539945, 16854.439921, \n",
    "                          17091.849894, 14202.299958, 9084.959929, \n",
    "                          16310.409961, 12569.599911, 21021.669984, \n",
    "                          14598.209948, 19298.679917, 11934.999961, \n",
    "                          23730.719905, 10719.049952, 13041.239901, \n",
    "                          9181.769959, 15982.159946, 31000.569969, \n",
    "                          11139.740003, 4390.689987, 15234.709888]\n",
    "}\n",
    "\n",
    "# Transform data into DataFrame\n",
    "df = pd.DataFrame(data)\n",
    "\n",
    "# Create the bar chart\n",
    "plt.figure(figsize=(12, 6))\n",
    "plt.bar(df['Store_Number'].astype(str), df['Total_Sales_Value'], color='skyblue')\n",
    "plt.xlabel('Store Number')\n",
    "plt.ylabel('Total Sales Value')\n",
    "plt.title('Sales by Store for November 2021')\n",
    "plt.xticks(rotation=90)\n",
    "plt.tight_layout()\n",
    "plt.show()\n"
   ]
  }
 ],
 "metadata": {
  "kernelspec": {
   "display_name": "agent",
   "language": "python",
   "name": "agent"
  },
  "language_info": {
   "codemirror_mode": {
    "name": "ipython",
    "version": 3
   },
   "file_extension": ".py",
   "mimetype": "text/x-python",
   "name": "python",
   "nbconvert_exporter": "python",
   "pygments_lexer": "ipython3",
   "version": "3.10.12"
  }
 },
 "nbformat": 4,
 "nbformat_minor": 5
}
